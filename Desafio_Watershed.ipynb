{
  "nbformat": 4,
  "nbformat_minor": 0,
  "metadata": {
    "colab": {
      "name": "Desafio",
      "provenance": [],
      "collapsed_sections": []
    },
    "kernelspec": {
      "name": "python3",
      "display_name": "Python 3"
    },
    "language_info": {
      "name": "python"
    }
  },
  "cells": [
    {
      "cell_type": "markdown",
      "source": [
        "# Desafio Watershed\n",
        "Primero, se cargan librerías que se usarán en la resolución del desafío. También se setea una semilla para que el resultado sea reproducible"
      ],
      "metadata": {
        "id": "ODwTNYZwqoWo"
      }
    },
    {
      "cell_type": "code",
      "execution_count": 51,
      "metadata": {
        "id": "Aqxd8sZhqZFu"
      },
      "outputs": [],
      "source": [
        "import pandas as pd\n",
        "import matplotlib.pyplot as plt\n",
        "import datetime as dt\n",
        "import numpy as np\n",
        "from google.colab import drive\n",
        "from sklearn.model_selection import train_test_split\n",
        "from sklearn.linear_model import LogisticRegression\n",
        "import sklearn.metrics as metrics\n",
        "from sklearn.ensemble import RandomForestClassifier\n",
        "from dateutil.relativedelta import relativedelta\n",
        "import xgboost as xgb\n",
        "import scikitplot as skplt\n",
        "np.random.seed(123)"
      ]
    },
    {
      "cell_type": "markdown",
      "source": [
        "## Cargamos la data"
      ],
      "metadata": {
        "id": "P5xZashjqvcQ"
      }
    },
    {
      "cell_type": "code",
      "source": [
        "df = pd.read_csv(\"flux.csv\")  "
      ],
      "metadata": {
        "id": "S2THsG27qr_a"
      },
      "execution_count": 2,
      "outputs": []
    },
    {
      "cell_type": "markdown",
      "source": [
        "## Realizamos un análisis exploratorio de variables \n",
        "Pondremos especial atención a cualquier valor faltante, formato incorrecto, o outliers/anomalías en la data\n",
        "\n"
      ],
      "metadata": {
        "id": "Jcnno-3QuDWH"
      }
    },
    {
      "cell_type": "code",
      "source": [
        "df.head() # Nos permite ver a priori los datos que tenemos"
      ],
      "metadata": {
        "colab": {
          "base_uri": "https://localhost:8080/",
          "height": 206
        },
        "id": "yFGtpgeiuQCB",
        "outputId": "be7b8cc2-408e-4b03-a03a-8545fc9c3b46"
      },
      "execution_count": 3,
      "outputs": [
        {
          "output_type": "execute_result",
          "data": {
            "text/plain": [
              "         date  basin_id   flux  precip   temp_max                 gauge_name  \\\n",
              "0  1980-01-01   1001001  0.579     0.0  10.685653  Rio Caquena En Nacimiento   \n",
              "1  1980-01-02   1001001  0.543     0.0  11.470960  Rio Caquena En Nacimiento   \n",
              "2  1980-01-03   1001001  0.482     0.0  11.947457  Rio Caquena En Nacimiento   \n",
              "3  1980-01-04   1001001  0.459     0.0  12.424489  Rio Caquena En Nacimiento   \n",
              "4  1980-01-05   1001001  0.436     0.0  12.649203  Rio Caquena En Nacimiento   \n",
              "\n",
              "       lat      lon    mean_elev   area_km2  \n",
              "0 -18.0769 -69.1961  4842.449328  49.711859  \n",
              "1 -18.0769 -69.1961  4842.449328  49.711859  \n",
              "2 -18.0769 -69.1961  4842.449328  49.711859  \n",
              "3 -18.0769 -69.1961  4842.449328  49.711859  \n",
              "4 -18.0769 -69.1961  4842.449328  49.711859  "
            ],
            "text/html": [
              "\n",
              "  <div id=\"df-444f1535-d366-4962-8899-ea353f402708\">\n",
              "    <div class=\"colab-df-container\">\n",
              "      <div>\n",
              "<style scoped>\n",
              "    .dataframe tbody tr th:only-of-type {\n",
              "        vertical-align: middle;\n",
              "    }\n",
              "\n",
              "    .dataframe tbody tr th {\n",
              "        vertical-align: top;\n",
              "    }\n",
              "\n",
              "    .dataframe thead th {\n",
              "        text-align: right;\n",
              "    }\n",
              "</style>\n",
              "<table border=\"1\" class=\"dataframe\">\n",
              "  <thead>\n",
              "    <tr style=\"text-align: right;\">\n",
              "      <th></th>\n",
              "      <th>date</th>\n",
              "      <th>basin_id</th>\n",
              "      <th>flux</th>\n",
              "      <th>precip</th>\n",
              "      <th>temp_max</th>\n",
              "      <th>gauge_name</th>\n",
              "      <th>lat</th>\n",
              "      <th>lon</th>\n",
              "      <th>mean_elev</th>\n",
              "      <th>area_km2</th>\n",
              "    </tr>\n",
              "  </thead>\n",
              "  <tbody>\n",
              "    <tr>\n",
              "      <th>0</th>\n",
              "      <td>1980-01-01</td>\n",
              "      <td>1001001</td>\n",
              "      <td>0.579</td>\n",
              "      <td>0.0</td>\n",
              "      <td>10.685653</td>\n",
              "      <td>Rio Caquena En Nacimiento</td>\n",
              "      <td>-18.0769</td>\n",
              "      <td>-69.1961</td>\n",
              "      <td>4842.449328</td>\n",
              "      <td>49.711859</td>\n",
              "    </tr>\n",
              "    <tr>\n",
              "      <th>1</th>\n",
              "      <td>1980-01-02</td>\n",
              "      <td>1001001</td>\n",
              "      <td>0.543</td>\n",
              "      <td>0.0</td>\n",
              "      <td>11.470960</td>\n",
              "      <td>Rio Caquena En Nacimiento</td>\n",
              "      <td>-18.0769</td>\n",
              "      <td>-69.1961</td>\n",
              "      <td>4842.449328</td>\n",
              "      <td>49.711859</td>\n",
              "    </tr>\n",
              "    <tr>\n",
              "      <th>2</th>\n",
              "      <td>1980-01-03</td>\n",
              "      <td>1001001</td>\n",
              "      <td>0.482</td>\n",
              "      <td>0.0</td>\n",
              "      <td>11.947457</td>\n",
              "      <td>Rio Caquena En Nacimiento</td>\n",
              "      <td>-18.0769</td>\n",
              "      <td>-69.1961</td>\n",
              "      <td>4842.449328</td>\n",
              "      <td>49.711859</td>\n",
              "    </tr>\n",
              "    <tr>\n",
              "      <th>3</th>\n",
              "      <td>1980-01-04</td>\n",
              "      <td>1001001</td>\n",
              "      <td>0.459</td>\n",
              "      <td>0.0</td>\n",
              "      <td>12.424489</td>\n",
              "      <td>Rio Caquena En Nacimiento</td>\n",
              "      <td>-18.0769</td>\n",
              "      <td>-69.1961</td>\n",
              "      <td>4842.449328</td>\n",
              "      <td>49.711859</td>\n",
              "    </tr>\n",
              "    <tr>\n",
              "      <th>4</th>\n",
              "      <td>1980-01-05</td>\n",
              "      <td>1001001</td>\n",
              "      <td>0.436</td>\n",
              "      <td>0.0</td>\n",
              "      <td>12.649203</td>\n",
              "      <td>Rio Caquena En Nacimiento</td>\n",
              "      <td>-18.0769</td>\n",
              "      <td>-69.1961</td>\n",
              "      <td>4842.449328</td>\n",
              "      <td>49.711859</td>\n",
              "    </tr>\n",
              "  </tbody>\n",
              "</table>\n",
              "</div>\n",
              "      <button class=\"colab-df-convert\" onclick=\"convertToInteractive('df-444f1535-d366-4962-8899-ea353f402708')\"\n",
              "              title=\"Convert this dataframe to an interactive table.\"\n",
              "              style=\"display:none;\">\n",
              "        \n",
              "  <svg xmlns=\"http://www.w3.org/2000/svg\" height=\"24px\"viewBox=\"0 0 24 24\"\n",
              "       width=\"24px\">\n",
              "    <path d=\"M0 0h24v24H0V0z\" fill=\"none\"/>\n",
              "    <path d=\"M18.56 5.44l.94 2.06.94-2.06 2.06-.94-2.06-.94-.94-2.06-.94 2.06-2.06.94zm-11 1L8.5 8.5l.94-2.06 2.06-.94-2.06-.94L8.5 2.5l-.94 2.06-2.06.94zm10 10l.94 2.06.94-2.06 2.06-.94-2.06-.94-.94-2.06-.94 2.06-2.06.94z\"/><path d=\"M17.41 7.96l-1.37-1.37c-.4-.4-.92-.59-1.43-.59-.52 0-1.04.2-1.43.59L10.3 9.45l-7.72 7.72c-.78.78-.78 2.05 0 2.83L4 21.41c.39.39.9.59 1.41.59.51 0 1.02-.2 1.41-.59l7.78-7.78 2.81-2.81c.8-.78.8-2.07 0-2.86zM5.41 20L4 18.59l7.72-7.72 1.47 1.35L5.41 20z\"/>\n",
              "  </svg>\n",
              "      </button>\n",
              "      \n",
              "  <style>\n",
              "    .colab-df-container {\n",
              "      display:flex;\n",
              "      flex-wrap:wrap;\n",
              "      gap: 12px;\n",
              "    }\n",
              "\n",
              "    .colab-df-convert {\n",
              "      background-color: #E8F0FE;\n",
              "      border: none;\n",
              "      border-radius: 50%;\n",
              "      cursor: pointer;\n",
              "      display: none;\n",
              "      fill: #1967D2;\n",
              "      height: 32px;\n",
              "      padding: 0 0 0 0;\n",
              "      width: 32px;\n",
              "    }\n",
              "\n",
              "    .colab-df-convert:hover {\n",
              "      background-color: #E2EBFA;\n",
              "      box-shadow: 0px 1px 2px rgba(60, 64, 67, 0.3), 0px 1px 3px 1px rgba(60, 64, 67, 0.15);\n",
              "      fill: #174EA6;\n",
              "    }\n",
              "\n",
              "    [theme=dark] .colab-df-convert {\n",
              "      background-color: #3B4455;\n",
              "      fill: #D2E3FC;\n",
              "    }\n",
              "\n",
              "    [theme=dark] .colab-df-convert:hover {\n",
              "      background-color: #434B5C;\n",
              "      box-shadow: 0px 1px 3px 1px rgba(0, 0, 0, 0.15);\n",
              "      filter: drop-shadow(0px 1px 2px rgba(0, 0, 0, 0.3));\n",
              "      fill: #FFFFFF;\n",
              "    }\n",
              "  </style>\n",
              "\n",
              "      <script>\n",
              "        const buttonEl =\n",
              "          document.querySelector('#df-444f1535-d366-4962-8899-ea353f402708 button.colab-df-convert');\n",
              "        buttonEl.style.display =\n",
              "          google.colab.kernel.accessAllowed ? 'block' : 'none';\n",
              "\n",
              "        async function convertToInteractive(key) {\n",
              "          const element = document.querySelector('#df-444f1535-d366-4962-8899-ea353f402708');\n",
              "          const dataTable =\n",
              "            await google.colab.kernel.invokeFunction('convertToInteractive',\n",
              "                                                     [key], {});\n",
              "          if (!dataTable) return;\n",
              "\n",
              "          const docLinkHtml = 'Like what you see? Visit the ' +\n",
              "            '<a target=\"_blank\" href=https://colab.research.google.com/notebooks/data_table.ipynb>data table notebook</a>'\n",
              "            + ' to learn more about interactive tables.';\n",
              "          element.innerHTML = '';\n",
              "          dataTable['output_type'] = 'display_data';\n",
              "          await google.colab.output.renderOutput(dataTable, element);\n",
              "          const docLink = document.createElement('div');\n",
              "          docLink.innerHTML = docLinkHtml;\n",
              "          element.appendChild(docLink);\n",
              "        }\n",
              "      </script>\n",
              "    </div>\n",
              "  </div>\n",
              "  "
            ]
          },
          "metadata": {},
          "execution_count": 3
        }
      ]
    },
    {
      "cell_type": "code",
      "source": [
        "df.describe() #Vemos las estadisticas de cada variable: podemos ver si hay outliers o valores extraños"
      ],
      "metadata": {
        "colab": {
          "base_uri": "https://localhost:8080/",
          "height": 300
        },
        "id": "VdHWwKk9uUr9",
        "outputId": "8395804c-d793-4625-d320-9394f2525446"
      },
      "execution_count": 4,
      "outputs": [
        {
          "output_type": "execute_result",
          "data": {
            "text/plain": [
              "           basin_id          flux        precip      temp_max           lat  \\\n",
              "count  4.180480e+06  4.180480e+06  4.175037e+06  4.175037e+06  4.180480e+06   \n",
              "mean   7.179757e+06  5.253340e+01  2.947445e+00  1.365728e+01 -3.569572e+01   \n",
              "std    3.180965e+06  1.676027e+02  8.766749e+00  6.615037e+00  8.047659e+00   \n",
              "min    1.001001e+06  0.000000e+00  0.000000e+00 -1.160359e+01 -5.494690e+01   \n",
              "25%    4.558001e+06  8.680000e-01  0.000000e+00  9.162867e+00 -3.915000e+01   \n",
              "50%    7.350003e+06  5.171000e+00  0.000000e+00  1.321396e+01 -3.588420e+01   \n",
              "75%    9.416001e+06  2.990000e+01  6.422626e-01  1.805745e+01 -3.126560e+01   \n",
              "max    1.293000e+07  1.580500e+04  2.132120e+02  4.081117e+01 -1.784280e+01   \n",
              "\n",
              "                lon     mean_elev      area_km2  \n",
              "count  4.180480e+06  4.180480e+06  4.180480e+06  \n",
              "mean  -7.129595e+01  1.760129e+03  2.404876e+03  \n",
              "std    1.254339e+00  1.382121e+03  4.322051e+03  \n",
              "min   -7.366670e+01  1.181229e+02  1.789123e+01  \n",
              "25%   -7.231670e+01  5.847012e+02  3.761001e+02  \n",
              "50%   -7.137190e+01  1.195311e+03  8.205541e+02  \n",
              "75%   -7.050670e+01  3.048161e+03  2.461610e+03  \n",
              "max   -6.763920e+01  4.910152e+03  5.224367e+04  "
            ],
            "text/html": [
              "\n",
              "  <div id=\"df-103974ef-e9ec-41ac-bab8-84868f0a6576\">\n",
              "    <div class=\"colab-df-container\">\n",
              "      <div>\n",
              "<style scoped>\n",
              "    .dataframe tbody tr th:only-of-type {\n",
              "        vertical-align: middle;\n",
              "    }\n",
              "\n",
              "    .dataframe tbody tr th {\n",
              "        vertical-align: top;\n",
              "    }\n",
              "\n",
              "    .dataframe thead th {\n",
              "        text-align: right;\n",
              "    }\n",
              "</style>\n",
              "<table border=\"1\" class=\"dataframe\">\n",
              "  <thead>\n",
              "    <tr style=\"text-align: right;\">\n",
              "      <th></th>\n",
              "      <th>basin_id</th>\n",
              "      <th>flux</th>\n",
              "      <th>precip</th>\n",
              "      <th>temp_max</th>\n",
              "      <th>lat</th>\n",
              "      <th>lon</th>\n",
              "      <th>mean_elev</th>\n",
              "      <th>area_km2</th>\n",
              "    </tr>\n",
              "  </thead>\n",
              "  <tbody>\n",
              "    <tr>\n",
              "      <th>count</th>\n",
              "      <td>4.180480e+06</td>\n",
              "      <td>4.180480e+06</td>\n",
              "      <td>4.175037e+06</td>\n",
              "      <td>4.175037e+06</td>\n",
              "      <td>4.180480e+06</td>\n",
              "      <td>4.180480e+06</td>\n",
              "      <td>4.180480e+06</td>\n",
              "      <td>4.180480e+06</td>\n",
              "    </tr>\n",
              "    <tr>\n",
              "      <th>mean</th>\n",
              "      <td>7.179757e+06</td>\n",
              "      <td>5.253340e+01</td>\n",
              "      <td>2.947445e+00</td>\n",
              "      <td>1.365728e+01</td>\n",
              "      <td>-3.569572e+01</td>\n",
              "      <td>-7.129595e+01</td>\n",
              "      <td>1.760129e+03</td>\n",
              "      <td>2.404876e+03</td>\n",
              "    </tr>\n",
              "    <tr>\n",
              "      <th>std</th>\n",
              "      <td>3.180965e+06</td>\n",
              "      <td>1.676027e+02</td>\n",
              "      <td>8.766749e+00</td>\n",
              "      <td>6.615037e+00</td>\n",
              "      <td>8.047659e+00</td>\n",
              "      <td>1.254339e+00</td>\n",
              "      <td>1.382121e+03</td>\n",
              "      <td>4.322051e+03</td>\n",
              "    </tr>\n",
              "    <tr>\n",
              "      <th>min</th>\n",
              "      <td>1.001001e+06</td>\n",
              "      <td>0.000000e+00</td>\n",
              "      <td>0.000000e+00</td>\n",
              "      <td>-1.160359e+01</td>\n",
              "      <td>-5.494690e+01</td>\n",
              "      <td>-7.366670e+01</td>\n",
              "      <td>1.181229e+02</td>\n",
              "      <td>1.789123e+01</td>\n",
              "    </tr>\n",
              "    <tr>\n",
              "      <th>25%</th>\n",
              "      <td>4.558001e+06</td>\n",
              "      <td>8.680000e-01</td>\n",
              "      <td>0.000000e+00</td>\n",
              "      <td>9.162867e+00</td>\n",
              "      <td>-3.915000e+01</td>\n",
              "      <td>-7.231670e+01</td>\n",
              "      <td>5.847012e+02</td>\n",
              "      <td>3.761001e+02</td>\n",
              "    </tr>\n",
              "    <tr>\n",
              "      <th>50%</th>\n",
              "      <td>7.350003e+06</td>\n",
              "      <td>5.171000e+00</td>\n",
              "      <td>0.000000e+00</td>\n",
              "      <td>1.321396e+01</td>\n",
              "      <td>-3.588420e+01</td>\n",
              "      <td>-7.137190e+01</td>\n",
              "      <td>1.195311e+03</td>\n",
              "      <td>8.205541e+02</td>\n",
              "    </tr>\n",
              "    <tr>\n",
              "      <th>75%</th>\n",
              "      <td>9.416001e+06</td>\n",
              "      <td>2.990000e+01</td>\n",
              "      <td>6.422626e-01</td>\n",
              "      <td>1.805745e+01</td>\n",
              "      <td>-3.126560e+01</td>\n",
              "      <td>-7.050670e+01</td>\n",
              "      <td>3.048161e+03</td>\n",
              "      <td>2.461610e+03</td>\n",
              "    </tr>\n",
              "    <tr>\n",
              "      <th>max</th>\n",
              "      <td>1.293000e+07</td>\n",
              "      <td>1.580500e+04</td>\n",
              "      <td>2.132120e+02</td>\n",
              "      <td>4.081117e+01</td>\n",
              "      <td>-1.784280e+01</td>\n",
              "      <td>-6.763920e+01</td>\n",
              "      <td>4.910152e+03</td>\n",
              "      <td>5.224367e+04</td>\n",
              "    </tr>\n",
              "  </tbody>\n",
              "</table>\n",
              "</div>\n",
              "      <button class=\"colab-df-convert\" onclick=\"convertToInteractive('df-103974ef-e9ec-41ac-bab8-84868f0a6576')\"\n",
              "              title=\"Convert this dataframe to an interactive table.\"\n",
              "              style=\"display:none;\">\n",
              "        \n",
              "  <svg xmlns=\"http://www.w3.org/2000/svg\" height=\"24px\"viewBox=\"0 0 24 24\"\n",
              "       width=\"24px\">\n",
              "    <path d=\"M0 0h24v24H0V0z\" fill=\"none\"/>\n",
              "    <path d=\"M18.56 5.44l.94 2.06.94-2.06 2.06-.94-2.06-.94-.94-2.06-.94 2.06-2.06.94zm-11 1L8.5 8.5l.94-2.06 2.06-.94-2.06-.94L8.5 2.5l-.94 2.06-2.06.94zm10 10l.94 2.06.94-2.06 2.06-.94-2.06-.94-.94-2.06-.94 2.06-2.06.94z\"/><path d=\"M17.41 7.96l-1.37-1.37c-.4-.4-.92-.59-1.43-.59-.52 0-1.04.2-1.43.59L10.3 9.45l-7.72 7.72c-.78.78-.78 2.05 0 2.83L4 21.41c.39.39.9.59 1.41.59.51 0 1.02-.2 1.41-.59l7.78-7.78 2.81-2.81c.8-.78.8-2.07 0-2.86zM5.41 20L4 18.59l7.72-7.72 1.47 1.35L5.41 20z\"/>\n",
              "  </svg>\n",
              "      </button>\n",
              "      \n",
              "  <style>\n",
              "    .colab-df-container {\n",
              "      display:flex;\n",
              "      flex-wrap:wrap;\n",
              "      gap: 12px;\n",
              "    }\n",
              "\n",
              "    .colab-df-convert {\n",
              "      background-color: #E8F0FE;\n",
              "      border: none;\n",
              "      border-radius: 50%;\n",
              "      cursor: pointer;\n",
              "      display: none;\n",
              "      fill: #1967D2;\n",
              "      height: 32px;\n",
              "      padding: 0 0 0 0;\n",
              "      width: 32px;\n",
              "    }\n",
              "\n",
              "    .colab-df-convert:hover {\n",
              "      background-color: #E2EBFA;\n",
              "      box-shadow: 0px 1px 2px rgba(60, 64, 67, 0.3), 0px 1px 3px 1px rgba(60, 64, 67, 0.15);\n",
              "      fill: #174EA6;\n",
              "    }\n",
              "\n",
              "    [theme=dark] .colab-df-convert {\n",
              "      background-color: #3B4455;\n",
              "      fill: #D2E3FC;\n",
              "    }\n",
              "\n",
              "    [theme=dark] .colab-df-convert:hover {\n",
              "      background-color: #434B5C;\n",
              "      box-shadow: 0px 1px 3px 1px rgba(0, 0, 0, 0.15);\n",
              "      filter: drop-shadow(0px 1px 2px rgba(0, 0, 0, 0.3));\n",
              "      fill: #FFFFFF;\n",
              "    }\n",
              "  </style>\n",
              "\n",
              "      <script>\n",
              "        const buttonEl =\n",
              "          document.querySelector('#df-103974ef-e9ec-41ac-bab8-84868f0a6576 button.colab-df-convert');\n",
              "        buttonEl.style.display =\n",
              "          google.colab.kernel.accessAllowed ? 'block' : 'none';\n",
              "\n",
              "        async function convertToInteractive(key) {\n",
              "          const element = document.querySelector('#df-103974ef-e9ec-41ac-bab8-84868f0a6576');\n",
              "          const dataTable =\n",
              "            await google.colab.kernel.invokeFunction('convertToInteractive',\n",
              "                                                     [key], {});\n",
              "          if (!dataTable) return;\n",
              "\n",
              "          const docLinkHtml = 'Like what you see? Visit the ' +\n",
              "            '<a target=\"_blank\" href=https://colab.research.google.com/notebooks/data_table.ipynb>data table notebook</a>'\n",
              "            + ' to learn more about interactive tables.';\n",
              "          element.innerHTML = '';\n",
              "          dataTable['output_type'] = 'display_data';\n",
              "          await google.colab.output.renderOutput(dataTable, element);\n",
              "          const docLink = document.createElement('div');\n",
              "          docLink.innerHTML = docLinkHtml;\n",
              "          element.appendChild(docLink);\n",
              "        }\n",
              "      </script>\n",
              "    </div>\n",
              "  </div>\n",
              "  "
            ]
          },
          "metadata": {},
          "execution_count": 4
        }
      ]
    },
    {
      "cell_type": "markdown",
      "source": [
        "Podemos notar que a priori tanto para la variable 'flux', como para 'precip' existen valores mucho más altos del comun de la muestra. Esto no es de preocuparse en nuestro caso ya que para ambas variables es posible llegar a tales valores en días específicos (tormentas o diluvios) por lo que no parecieran ser valores erroneos sino que más bien outliers. "
      ],
      "metadata": {
        "id": "CigVPofgPH57"
      }
    },
    {
      "cell_type": "code",
      "source": [
        "df.info()"
      ],
      "metadata": {
        "colab": {
          "base_uri": "https://localhost:8080/"
        },
        "id": "U5nTRYArgHq8",
        "outputId": "13bd4ce7-81d9-4df1-f4d7-6193d4c9fd01"
      },
      "execution_count": 5,
      "outputs": [
        {
          "output_type": "stream",
          "name": "stdout",
          "text": [
            "<class 'pandas.core.frame.DataFrame'>\n",
            "RangeIndex: 4180480 entries, 0 to 4180479\n",
            "Data columns (total 10 columns):\n",
            " #   Column      Dtype  \n",
            "---  ------      -----  \n",
            " 0   date        object \n",
            " 1   basin_id    int64  \n",
            " 2   flux        float64\n",
            " 3   precip      float64\n",
            " 4   temp_max    float64\n",
            " 5   gauge_name  object \n",
            " 6   lat         float64\n",
            " 7   lon         float64\n",
            " 8   mean_elev   float64\n",
            " 9   area_km2    float64\n",
            "dtypes: float64(7), int64(1), object(2)\n",
            "memory usage: 318.9+ MB\n"
          ]
        }
      ]
    },
    {
      "cell_type": "markdown",
      "source": [
        "De aqui vemos que tenemos un poco más de 4 millones de observaciones y 10 columnas para trabajar"
      ],
      "metadata": {
        "id": "n2bYEeGAgRsD"
      }
    },
    {
      "cell_type": "code",
      "source": [
        "df.dtypes\n",
        "df[\"date\"]=pd.to_datetime(df[\"date\"]) #transformamos variable a fecha para que sea más facil de manejar\n",
        "df.dtypes"
      ],
      "metadata": {
        "colab": {
          "base_uri": "https://localhost:8080/"
        },
        "id": "vMGvOFrCyJ9u",
        "outputId": "280d067d-a5ac-46e4-c864-51617fc99d69"
      },
      "execution_count": 6,
      "outputs": [
        {
          "output_type": "execute_result",
          "data": {
            "text/plain": [
              "date          datetime64[ns]\n",
              "basin_id               int64\n",
              "flux                 float64\n",
              "precip               float64\n",
              "temp_max             float64\n",
              "gauge_name            object\n",
              "lat                  float64\n",
              "lon                  float64\n",
              "mean_elev            float64\n",
              "area_km2             float64\n",
              "dtype: object"
            ]
          },
          "metadata": {},
          "execution_count": 6
        }
      ]
    },
    {
      "cell_type": "code",
      "source": [
        "df.isnull().sum() #Vemos cuantos NA se tienen en cada columna"
      ],
      "metadata": {
        "colab": {
          "base_uri": "https://localhost:8080/"
        },
        "id": "ckuDn2yPuXW-",
        "outputId": "37251d8b-d29e-4027-96ef-ef9a41a7aba8"
      },
      "execution_count": 7,
      "outputs": [
        {
          "output_type": "execute_result",
          "data": {
            "text/plain": [
              "date             0\n",
              "basin_id         0\n",
              "flux             0\n",
              "precip        5443\n",
              "temp_max      5443\n",
              "gauge_name       0\n",
              "lat              0\n",
              "lon              0\n",
              "mean_elev        0\n",
              "area_km2         0\n",
              "dtype: int64"
            ]
          },
          "metadata": {},
          "execution_count": 7
        }
      ]
    },
    {
      "cell_type": "markdown",
      "source": [
        "Notamos que tanto para la variable precip como temp_max si existen observaciones que contienen missing (5.443 obs).Veremos si estos datos son aleatorios o corresponden a un caso en particular."
      ],
      "metadata": {
        "id": "lhsPR1nUis7h"
      }
    },
    {
      "cell_type": "code",
      "source": [
        "df[\"year\"]=df[\"date\"].dt.year\n",
        "df.groupby('year').agg({'precip': lambda x: x.isnull().sum()})"
      ],
      "metadata": {
        "colab": {
          "base_uri": "https://localhost:8080/",
          "height": 1000
        },
        "id": "s4-50kWVhN3k",
        "outputId": "fd028173-7d9d-4f7d-9a39-e54fa518716b"
      },
      "execution_count": 8,
      "outputs": [
        {
          "output_type": "execute_result",
          "data": {
            "text/plain": [
              "      precip\n",
              "year        \n",
              "1980       0\n",
              "1981       0\n",
              "1982       0\n",
              "1983       0\n",
              "1984       0\n",
              "1985       0\n",
              "1986       0\n",
              "1987       0\n",
              "1988       0\n",
              "1989       0\n",
              "1990       0\n",
              "1991       0\n",
              "1992       0\n",
              "1993       0\n",
              "1994       0\n",
              "1995       0\n",
              "1996       0\n",
              "1997       0\n",
              "1998       0\n",
              "1999       0\n",
              "2000       0\n",
              "2001       0\n",
              "2002       0\n",
              "2003       0\n",
              "2004       0\n",
              "2005       0\n",
              "2006       0\n",
              "2007       0\n",
              "2008       0\n",
              "2009       0\n",
              "2010       0\n",
              "2011       0\n",
              "2012       0\n",
              "2013       0\n",
              "2014       0\n",
              "2015       0\n",
              "2016       0\n",
              "2017       0\n",
              "2018       0\n",
              "2019       0\n",
              "2020    5443"
            ],
            "text/html": [
              "\n",
              "  <div id=\"df-79f6a00c-a7df-419f-bae2-391190eb9d27\">\n",
              "    <div class=\"colab-df-container\">\n",
              "      <div>\n",
              "<style scoped>\n",
              "    .dataframe tbody tr th:only-of-type {\n",
              "        vertical-align: middle;\n",
              "    }\n",
              "\n",
              "    .dataframe tbody tr th {\n",
              "        vertical-align: top;\n",
              "    }\n",
              "\n",
              "    .dataframe thead th {\n",
              "        text-align: right;\n",
              "    }\n",
              "</style>\n",
              "<table border=\"1\" class=\"dataframe\">\n",
              "  <thead>\n",
              "    <tr style=\"text-align: right;\">\n",
              "      <th></th>\n",
              "      <th>precip</th>\n",
              "    </tr>\n",
              "    <tr>\n",
              "      <th>year</th>\n",
              "      <th></th>\n",
              "    </tr>\n",
              "  </thead>\n",
              "  <tbody>\n",
              "    <tr>\n",
              "      <th>1980</th>\n",
              "      <td>0</td>\n",
              "    </tr>\n",
              "    <tr>\n",
              "      <th>1981</th>\n",
              "      <td>0</td>\n",
              "    </tr>\n",
              "    <tr>\n",
              "      <th>1982</th>\n",
              "      <td>0</td>\n",
              "    </tr>\n",
              "    <tr>\n",
              "      <th>1983</th>\n",
              "      <td>0</td>\n",
              "    </tr>\n",
              "    <tr>\n",
              "      <th>1984</th>\n",
              "      <td>0</td>\n",
              "    </tr>\n",
              "    <tr>\n",
              "      <th>1985</th>\n",
              "      <td>0</td>\n",
              "    </tr>\n",
              "    <tr>\n",
              "      <th>1986</th>\n",
              "      <td>0</td>\n",
              "    </tr>\n",
              "    <tr>\n",
              "      <th>1987</th>\n",
              "      <td>0</td>\n",
              "    </tr>\n",
              "    <tr>\n",
              "      <th>1988</th>\n",
              "      <td>0</td>\n",
              "    </tr>\n",
              "    <tr>\n",
              "      <th>1989</th>\n",
              "      <td>0</td>\n",
              "    </tr>\n",
              "    <tr>\n",
              "      <th>1990</th>\n",
              "      <td>0</td>\n",
              "    </tr>\n",
              "    <tr>\n",
              "      <th>1991</th>\n",
              "      <td>0</td>\n",
              "    </tr>\n",
              "    <tr>\n",
              "      <th>1992</th>\n",
              "      <td>0</td>\n",
              "    </tr>\n",
              "    <tr>\n",
              "      <th>1993</th>\n",
              "      <td>0</td>\n",
              "    </tr>\n",
              "    <tr>\n",
              "      <th>1994</th>\n",
              "      <td>0</td>\n",
              "    </tr>\n",
              "    <tr>\n",
              "      <th>1995</th>\n",
              "      <td>0</td>\n",
              "    </tr>\n",
              "    <tr>\n",
              "      <th>1996</th>\n",
              "      <td>0</td>\n",
              "    </tr>\n",
              "    <tr>\n",
              "      <th>1997</th>\n",
              "      <td>0</td>\n",
              "    </tr>\n",
              "    <tr>\n",
              "      <th>1998</th>\n",
              "      <td>0</td>\n",
              "    </tr>\n",
              "    <tr>\n",
              "      <th>1999</th>\n",
              "      <td>0</td>\n",
              "    </tr>\n",
              "    <tr>\n",
              "      <th>2000</th>\n",
              "      <td>0</td>\n",
              "    </tr>\n",
              "    <tr>\n",
              "      <th>2001</th>\n",
              "      <td>0</td>\n",
              "    </tr>\n",
              "    <tr>\n",
              "      <th>2002</th>\n",
              "      <td>0</td>\n",
              "    </tr>\n",
              "    <tr>\n",
              "      <th>2003</th>\n",
              "      <td>0</td>\n",
              "    </tr>\n",
              "    <tr>\n",
              "      <th>2004</th>\n",
              "      <td>0</td>\n",
              "    </tr>\n",
              "    <tr>\n",
              "      <th>2005</th>\n",
              "      <td>0</td>\n",
              "    </tr>\n",
              "    <tr>\n",
              "      <th>2006</th>\n",
              "      <td>0</td>\n",
              "    </tr>\n",
              "    <tr>\n",
              "      <th>2007</th>\n",
              "      <td>0</td>\n",
              "    </tr>\n",
              "    <tr>\n",
              "      <th>2008</th>\n",
              "      <td>0</td>\n",
              "    </tr>\n",
              "    <tr>\n",
              "      <th>2009</th>\n",
              "      <td>0</td>\n",
              "    </tr>\n",
              "    <tr>\n",
              "      <th>2010</th>\n",
              "      <td>0</td>\n",
              "    </tr>\n",
              "    <tr>\n",
              "      <th>2011</th>\n",
              "      <td>0</td>\n",
              "    </tr>\n",
              "    <tr>\n",
              "      <th>2012</th>\n",
              "      <td>0</td>\n",
              "    </tr>\n",
              "    <tr>\n",
              "      <th>2013</th>\n",
              "      <td>0</td>\n",
              "    </tr>\n",
              "    <tr>\n",
              "      <th>2014</th>\n",
              "      <td>0</td>\n",
              "    </tr>\n",
              "    <tr>\n",
              "      <th>2015</th>\n",
              "      <td>0</td>\n",
              "    </tr>\n",
              "    <tr>\n",
              "      <th>2016</th>\n",
              "      <td>0</td>\n",
              "    </tr>\n",
              "    <tr>\n",
              "      <th>2017</th>\n",
              "      <td>0</td>\n",
              "    </tr>\n",
              "    <tr>\n",
              "      <th>2018</th>\n",
              "      <td>0</td>\n",
              "    </tr>\n",
              "    <tr>\n",
              "      <th>2019</th>\n",
              "      <td>0</td>\n",
              "    </tr>\n",
              "    <tr>\n",
              "      <th>2020</th>\n",
              "      <td>5443</td>\n",
              "    </tr>\n",
              "  </tbody>\n",
              "</table>\n",
              "</div>\n",
              "      <button class=\"colab-df-convert\" onclick=\"convertToInteractive('df-79f6a00c-a7df-419f-bae2-391190eb9d27')\"\n",
              "              title=\"Convert this dataframe to an interactive table.\"\n",
              "              style=\"display:none;\">\n",
              "        \n",
              "  <svg xmlns=\"http://www.w3.org/2000/svg\" height=\"24px\"viewBox=\"0 0 24 24\"\n",
              "       width=\"24px\">\n",
              "    <path d=\"M0 0h24v24H0V0z\" fill=\"none\"/>\n",
              "    <path d=\"M18.56 5.44l.94 2.06.94-2.06 2.06-.94-2.06-.94-.94-2.06-.94 2.06-2.06.94zm-11 1L8.5 8.5l.94-2.06 2.06-.94-2.06-.94L8.5 2.5l-.94 2.06-2.06.94zm10 10l.94 2.06.94-2.06 2.06-.94-2.06-.94-.94-2.06-.94 2.06-2.06.94z\"/><path d=\"M17.41 7.96l-1.37-1.37c-.4-.4-.92-.59-1.43-.59-.52 0-1.04.2-1.43.59L10.3 9.45l-7.72 7.72c-.78.78-.78 2.05 0 2.83L4 21.41c.39.39.9.59 1.41.59.51 0 1.02-.2 1.41-.59l7.78-7.78 2.81-2.81c.8-.78.8-2.07 0-2.86zM5.41 20L4 18.59l7.72-7.72 1.47 1.35L5.41 20z\"/>\n",
              "  </svg>\n",
              "      </button>\n",
              "      \n",
              "  <style>\n",
              "    .colab-df-container {\n",
              "      display:flex;\n",
              "      flex-wrap:wrap;\n",
              "      gap: 12px;\n",
              "    }\n",
              "\n",
              "    .colab-df-convert {\n",
              "      background-color: #E8F0FE;\n",
              "      border: none;\n",
              "      border-radius: 50%;\n",
              "      cursor: pointer;\n",
              "      display: none;\n",
              "      fill: #1967D2;\n",
              "      height: 32px;\n",
              "      padding: 0 0 0 0;\n",
              "      width: 32px;\n",
              "    }\n",
              "\n",
              "    .colab-df-convert:hover {\n",
              "      background-color: #E2EBFA;\n",
              "      box-shadow: 0px 1px 2px rgba(60, 64, 67, 0.3), 0px 1px 3px 1px rgba(60, 64, 67, 0.15);\n",
              "      fill: #174EA6;\n",
              "    }\n",
              "\n",
              "    [theme=dark] .colab-df-convert {\n",
              "      background-color: #3B4455;\n",
              "      fill: #D2E3FC;\n",
              "    }\n",
              "\n",
              "    [theme=dark] .colab-df-convert:hover {\n",
              "      background-color: #434B5C;\n",
              "      box-shadow: 0px 1px 3px 1px rgba(0, 0, 0, 0.15);\n",
              "      filter: drop-shadow(0px 1px 2px rgba(0, 0, 0, 0.3));\n",
              "      fill: #FFFFFF;\n",
              "    }\n",
              "  </style>\n",
              "\n",
              "      <script>\n",
              "        const buttonEl =\n",
              "          document.querySelector('#df-79f6a00c-a7df-419f-bae2-391190eb9d27 button.colab-df-convert');\n",
              "        buttonEl.style.display =\n",
              "          google.colab.kernel.accessAllowed ? 'block' : 'none';\n",
              "\n",
              "        async function convertToInteractive(key) {\n",
              "          const element = document.querySelector('#df-79f6a00c-a7df-419f-bae2-391190eb9d27');\n",
              "          const dataTable =\n",
              "            await google.colab.kernel.invokeFunction('convertToInteractive',\n",
              "                                                     [key], {});\n",
              "          if (!dataTable) return;\n",
              "\n",
              "          const docLinkHtml = 'Like what you see? Visit the ' +\n",
              "            '<a target=\"_blank\" href=https://colab.research.google.com/notebooks/data_table.ipynb>data table notebook</a>'\n",
              "            + ' to learn more about interactive tables.';\n",
              "          element.innerHTML = '';\n",
              "          dataTable['output_type'] = 'display_data';\n",
              "          await google.colab.output.renderOutput(dataTable, element);\n",
              "          const docLink = document.createElement('div');\n",
              "          docLink.innerHTML = docLinkHtml;\n",
              "          element.appendChild(docLink);\n",
              "        }\n",
              "      </script>\n",
              "    </div>\n",
              "  </div>\n",
              "  "
            ]
          },
          "metadata": {},
          "execution_count": 8
        }
      ]
    },
    {
      "cell_type": "markdown",
      "source": [
        "Notamos que las observaciones faltantes corresponden a valores unicamente del año 2020, luego podría deberse a un error de medición en este periodo para alguna estación específica. Dado que estas corresponden a solo un 0,1% de las observaciones totales que tenemos y, además, poseemos harta información, se procede a eliminarlo de la base. En caso de que hubieran sido varias observaciones que estuvieran en missing o sospecharamos de una posible relación entre missings y observaciones (que podría llevarnos a un sesgo y por ende a conclusiones incorrectas) podriamos considerar otro método de imputación. "
      ],
      "metadata": {
        "id": "_c1HbPndPw_R"
      }
    },
    {
      "cell_type": "code",
      "source": [
        "df = df.dropna() #Eliminamos los NA si son pocos"
      ],
      "metadata": {
        "id": "nN4vSMDVuY8d"
      },
      "execution_count": 9,
      "outputs": []
    },
    {
      "cell_type": "code",
      "source": [
        "df.isnull().sum() #Revisamos que efectivamente no existan NAs en las columnas"
      ],
      "metadata": {
        "colab": {
          "base_uri": "https://localhost:8080/"
        },
        "id": "Eahu4gFHuaST",
        "outputId": "d961beb3-9070-4908-b81b-ea2ac443bcb0"
      },
      "execution_count": 10,
      "outputs": [
        {
          "output_type": "execute_result",
          "data": {
            "text/plain": [
              "date          0\n",
              "basin_id      0\n",
              "flux          0\n",
              "precip        0\n",
              "temp_max      0\n",
              "gauge_name    0\n",
              "lat           0\n",
              "lon           0\n",
              "mean_elev     0\n",
              "area_km2      0\n",
              "year          0\n",
              "dtype: int64"
            ]
          },
          "metadata": {},
          "execution_count": 10
        }
      ]
    },
    {
      "cell_type": "code",
      "source": [
        "df.gauge_name.value_counts(normalize=True) #Vemos cuantos datos tenemos de cada estacion en términos porcentuales"
      ],
      "metadata": {
        "colab": {
          "base_uri": "https://localhost:8080/"
        },
        "id": "HIr9npclusrt",
        "outputId": "57fbf172-1126-4a94-e9a1-7ed54b375e29"
      },
      "execution_count": 11,
      "outputs": [
        {
          "output_type": "execute_result",
          "data": {
            "text/plain": [
              "Rio Aconcagua En Chacabuquito                   0.003506\n",
              "Rio Cruces En Rucaco                            0.003501\n",
              "Rio Choapa En Cuncumen                          0.003499\n",
              "Rio Elqui En Algarrobal                         0.003497\n",
              "Rio Cautin En Cajon                             0.003490\n",
              "                                                  ...   \n",
              "Estero Chimbarongo En Santa Cruz                0.000079\n",
              "Rio Chillan En Longitudinal                     0.000072\n",
              "Rio Pama Entrada Embalse Cogoti                 0.000047\n",
              "Estero Las Vegas Aguas Abajo Canal Las Vegas    0.000047\n",
              "Rio Blanco En Chaiten                           0.000042\n",
              "Name: gauge_name, Length: 503, dtype: float64"
            ]
          },
          "metadata": {},
          "execution_count": 11
        }
      ]
    },
    {
      "cell_type": "markdown",
      "source": [
        "Vemos que se tienen 503 estaciones y las observaciones son similares en porcentaje en cada estación."
      ],
      "metadata": {
        "id": "aJhwRIqmjWXl"
      }
    },
    {
      "cell_type": "code",
      "source": [
        "df.corr() #vemos los valores que están muy correlacionados"
      ],
      "metadata": {
        "colab": {
          "base_uri": "https://localhost:8080/",
          "height": 332
        },
        "id": "dZ5rTl82uv-K",
        "outputId": "8cebd466-0603-42f0-bc62-16a2cd091315"
      },
      "execution_count": 12,
      "outputs": [
        {
          "output_type": "execute_result",
          "data": {
            "text/plain": [
              "           basin_id      flux    precip  temp_max       lat       lon  \\\n",
              "basin_id   1.000000  0.218240  0.154384  0.024728 -0.972365 -0.715169   \n",
              "flux       0.218240  1.000000  0.157168 -0.065097 -0.180506 -0.258978   \n",
              "precip     0.154384  0.157168  1.000000 -0.167713 -0.114745 -0.174026   \n",
              "temp_max   0.024728 -0.065097 -0.167713  1.000000  0.028275 -0.276995   \n",
              "lat       -0.972365 -0.180506 -0.114745  0.028275  1.000000  0.621655   \n",
              "lon       -0.715169 -0.258978 -0.174026 -0.276995  0.621655  1.000000   \n",
              "mean_elev -0.839035 -0.172210 -0.153925 -0.339706  0.785573  0.818343   \n",
              "area_km2  -0.081630  0.422901 -0.030863  0.049079  0.081472 -0.021812   \n",
              "year       0.113157  0.048147  0.000823 -0.004721 -0.105797 -0.059109   \n",
              "\n",
              "           mean_elev  area_km2      year  \n",
              "basin_id   -0.839035 -0.081630  0.113157  \n",
              "flux       -0.172210  0.422901  0.048147  \n",
              "precip     -0.153925 -0.030863  0.000823  \n",
              "temp_max   -0.339706  0.049079 -0.004721  \n",
              "lat         0.785573  0.081472 -0.105797  \n",
              "lon         0.818343 -0.021812 -0.059109  \n",
              "mean_elev   1.000000  0.049045 -0.065229  \n",
              "area_km2    0.049045  1.000000  0.042329  \n",
              "year       -0.065229  0.042329  1.000000  "
            ],
            "text/html": [
              "\n",
              "  <div id=\"df-1f97ca2f-4f46-4f47-8bba-a644ea2a2082\">\n",
              "    <div class=\"colab-df-container\">\n",
              "      <div>\n",
              "<style scoped>\n",
              "    .dataframe tbody tr th:only-of-type {\n",
              "        vertical-align: middle;\n",
              "    }\n",
              "\n",
              "    .dataframe tbody tr th {\n",
              "        vertical-align: top;\n",
              "    }\n",
              "\n",
              "    .dataframe thead th {\n",
              "        text-align: right;\n",
              "    }\n",
              "</style>\n",
              "<table border=\"1\" class=\"dataframe\">\n",
              "  <thead>\n",
              "    <tr style=\"text-align: right;\">\n",
              "      <th></th>\n",
              "      <th>basin_id</th>\n",
              "      <th>flux</th>\n",
              "      <th>precip</th>\n",
              "      <th>temp_max</th>\n",
              "      <th>lat</th>\n",
              "      <th>lon</th>\n",
              "      <th>mean_elev</th>\n",
              "      <th>area_km2</th>\n",
              "      <th>year</th>\n",
              "    </tr>\n",
              "  </thead>\n",
              "  <tbody>\n",
              "    <tr>\n",
              "      <th>basin_id</th>\n",
              "      <td>1.000000</td>\n",
              "      <td>0.218240</td>\n",
              "      <td>0.154384</td>\n",
              "      <td>0.024728</td>\n",
              "      <td>-0.972365</td>\n",
              "      <td>-0.715169</td>\n",
              "      <td>-0.839035</td>\n",
              "      <td>-0.081630</td>\n",
              "      <td>0.113157</td>\n",
              "    </tr>\n",
              "    <tr>\n",
              "      <th>flux</th>\n",
              "      <td>0.218240</td>\n",
              "      <td>1.000000</td>\n",
              "      <td>0.157168</td>\n",
              "      <td>-0.065097</td>\n",
              "      <td>-0.180506</td>\n",
              "      <td>-0.258978</td>\n",
              "      <td>-0.172210</td>\n",
              "      <td>0.422901</td>\n",
              "      <td>0.048147</td>\n",
              "    </tr>\n",
              "    <tr>\n",
              "      <th>precip</th>\n",
              "      <td>0.154384</td>\n",
              "      <td>0.157168</td>\n",
              "      <td>1.000000</td>\n",
              "      <td>-0.167713</td>\n",
              "      <td>-0.114745</td>\n",
              "      <td>-0.174026</td>\n",
              "      <td>-0.153925</td>\n",
              "      <td>-0.030863</td>\n",
              "      <td>0.000823</td>\n",
              "    </tr>\n",
              "    <tr>\n",
              "      <th>temp_max</th>\n",
              "      <td>0.024728</td>\n",
              "      <td>-0.065097</td>\n",
              "      <td>-0.167713</td>\n",
              "      <td>1.000000</td>\n",
              "      <td>0.028275</td>\n",
              "      <td>-0.276995</td>\n",
              "      <td>-0.339706</td>\n",
              "      <td>0.049079</td>\n",
              "      <td>-0.004721</td>\n",
              "    </tr>\n",
              "    <tr>\n",
              "      <th>lat</th>\n",
              "      <td>-0.972365</td>\n",
              "      <td>-0.180506</td>\n",
              "      <td>-0.114745</td>\n",
              "      <td>0.028275</td>\n",
              "      <td>1.000000</td>\n",
              "      <td>0.621655</td>\n",
              "      <td>0.785573</td>\n",
              "      <td>0.081472</td>\n",
              "      <td>-0.105797</td>\n",
              "    </tr>\n",
              "    <tr>\n",
              "      <th>lon</th>\n",
              "      <td>-0.715169</td>\n",
              "      <td>-0.258978</td>\n",
              "      <td>-0.174026</td>\n",
              "      <td>-0.276995</td>\n",
              "      <td>0.621655</td>\n",
              "      <td>1.000000</td>\n",
              "      <td>0.818343</td>\n",
              "      <td>-0.021812</td>\n",
              "      <td>-0.059109</td>\n",
              "    </tr>\n",
              "    <tr>\n",
              "      <th>mean_elev</th>\n",
              "      <td>-0.839035</td>\n",
              "      <td>-0.172210</td>\n",
              "      <td>-0.153925</td>\n",
              "      <td>-0.339706</td>\n",
              "      <td>0.785573</td>\n",
              "      <td>0.818343</td>\n",
              "      <td>1.000000</td>\n",
              "      <td>0.049045</td>\n",
              "      <td>-0.065229</td>\n",
              "    </tr>\n",
              "    <tr>\n",
              "      <th>area_km2</th>\n",
              "      <td>-0.081630</td>\n",
              "      <td>0.422901</td>\n",
              "      <td>-0.030863</td>\n",
              "      <td>0.049079</td>\n",
              "      <td>0.081472</td>\n",
              "      <td>-0.021812</td>\n",
              "      <td>0.049045</td>\n",
              "      <td>1.000000</td>\n",
              "      <td>0.042329</td>\n",
              "    </tr>\n",
              "    <tr>\n",
              "      <th>year</th>\n",
              "      <td>0.113157</td>\n",
              "      <td>0.048147</td>\n",
              "      <td>0.000823</td>\n",
              "      <td>-0.004721</td>\n",
              "      <td>-0.105797</td>\n",
              "      <td>-0.059109</td>\n",
              "      <td>-0.065229</td>\n",
              "      <td>0.042329</td>\n",
              "      <td>1.000000</td>\n",
              "    </tr>\n",
              "  </tbody>\n",
              "</table>\n",
              "</div>\n",
              "      <button class=\"colab-df-convert\" onclick=\"convertToInteractive('df-1f97ca2f-4f46-4f47-8bba-a644ea2a2082')\"\n",
              "              title=\"Convert this dataframe to an interactive table.\"\n",
              "              style=\"display:none;\">\n",
              "        \n",
              "  <svg xmlns=\"http://www.w3.org/2000/svg\" height=\"24px\"viewBox=\"0 0 24 24\"\n",
              "       width=\"24px\">\n",
              "    <path d=\"M0 0h24v24H0V0z\" fill=\"none\"/>\n",
              "    <path d=\"M18.56 5.44l.94 2.06.94-2.06 2.06-.94-2.06-.94-.94-2.06-.94 2.06-2.06.94zm-11 1L8.5 8.5l.94-2.06 2.06-.94-2.06-.94L8.5 2.5l-.94 2.06-2.06.94zm10 10l.94 2.06.94-2.06 2.06-.94-2.06-.94-.94-2.06-.94 2.06-2.06.94z\"/><path d=\"M17.41 7.96l-1.37-1.37c-.4-.4-.92-.59-1.43-.59-.52 0-1.04.2-1.43.59L10.3 9.45l-7.72 7.72c-.78.78-.78 2.05 0 2.83L4 21.41c.39.39.9.59 1.41.59.51 0 1.02-.2 1.41-.59l7.78-7.78 2.81-2.81c.8-.78.8-2.07 0-2.86zM5.41 20L4 18.59l7.72-7.72 1.47 1.35L5.41 20z\"/>\n",
              "  </svg>\n",
              "      </button>\n",
              "      \n",
              "  <style>\n",
              "    .colab-df-container {\n",
              "      display:flex;\n",
              "      flex-wrap:wrap;\n",
              "      gap: 12px;\n",
              "    }\n",
              "\n",
              "    .colab-df-convert {\n",
              "      background-color: #E8F0FE;\n",
              "      border: none;\n",
              "      border-radius: 50%;\n",
              "      cursor: pointer;\n",
              "      display: none;\n",
              "      fill: #1967D2;\n",
              "      height: 32px;\n",
              "      padding: 0 0 0 0;\n",
              "      width: 32px;\n",
              "    }\n",
              "\n",
              "    .colab-df-convert:hover {\n",
              "      background-color: #E2EBFA;\n",
              "      box-shadow: 0px 1px 2px rgba(60, 64, 67, 0.3), 0px 1px 3px 1px rgba(60, 64, 67, 0.15);\n",
              "      fill: #174EA6;\n",
              "    }\n",
              "\n",
              "    [theme=dark] .colab-df-convert {\n",
              "      background-color: #3B4455;\n",
              "      fill: #D2E3FC;\n",
              "    }\n",
              "\n",
              "    [theme=dark] .colab-df-convert:hover {\n",
              "      background-color: #434B5C;\n",
              "      box-shadow: 0px 1px 3px 1px rgba(0, 0, 0, 0.15);\n",
              "      filter: drop-shadow(0px 1px 2px rgba(0, 0, 0, 0.3));\n",
              "      fill: #FFFFFF;\n",
              "    }\n",
              "  </style>\n",
              "\n",
              "      <script>\n",
              "        const buttonEl =\n",
              "          document.querySelector('#df-1f97ca2f-4f46-4f47-8bba-a644ea2a2082 button.colab-df-convert');\n",
              "        buttonEl.style.display =\n",
              "          google.colab.kernel.accessAllowed ? 'block' : 'none';\n",
              "\n",
              "        async function convertToInteractive(key) {\n",
              "          const element = document.querySelector('#df-1f97ca2f-4f46-4f47-8bba-a644ea2a2082');\n",
              "          const dataTable =\n",
              "            await google.colab.kernel.invokeFunction('convertToInteractive',\n",
              "                                                     [key], {});\n",
              "          if (!dataTable) return;\n",
              "\n",
              "          const docLinkHtml = 'Like what you see? Visit the ' +\n",
              "            '<a target=\"_blank\" href=https://colab.research.google.com/notebooks/data_table.ipynb>data table notebook</a>'\n",
              "            + ' to learn more about interactive tables.';\n",
              "          element.innerHTML = '';\n",
              "          dataTable['output_type'] = 'display_data';\n",
              "          await google.colab.output.renderOutput(dataTable, element);\n",
              "          const docLink = document.createElement('div');\n",
              "          docLink.innerHTML = docLinkHtml;\n",
              "          element.appendChild(docLink);\n",
              "        }\n",
              "      </script>\n",
              "    </div>\n",
              "  </div>\n",
              "  "
            ]
          },
          "metadata": {},
          "execution_count": 12
        }
      ]
    },
    {
      "cell_type": "markdown",
      "source": [
        "Se puede ver que la variable que más correlaciona con 'flux' es el area, pero es importante aclarar que esta correlación positiva no implica causalidad, es decir, aquellas observaciones que se miden en areas más grandes tienen mayor flujo en promedio. Luego, no podemos decir que debido a que son areas más grandes existen mayores flujos como consecuencia.\n",
        "Podemos ver tambien que el flujo se correlaciona levemente y de forma positiva con las precipitaciones, es decir, en zonas de mayor precipitación ocurren mayor cantidad de flujos en promedio. La correlación es opuesta al observar la temperatura máxima: en lugares de menor temperatura ocurren más flujos."
      ],
      "metadata": {
        "id": "rvL6DQdBSG1S"
      }
    },
    {
      "cell_type": "markdown",
      "source": [
        "## Graficamos los flujos, las temperaturas y las precipitaciones\n",
        "Creamos una función que nos permita gráficar la evolución en un cierto periodo de una variable específica en una estación específica\n"
      ],
      "metadata": {
        "id": "6edvxjcYvDsP"
      }
    },
    {
      "cell_type": "code",
      "source": [
        "def plot_one_timeserie(cod_station, variable, min_date, max_date):\n",
        "\t\tdf2 = df[(df[\"basin_id\"]==cod_station) & (df[\"date\"]>=min_date) & (df[\"date\"]<=max_date)] #filtramos por estacion y periodo\n",
        "\t\tplt.plot(df2['date'],df2[variable]) #graficamos la variable respecto a la fecha\n",
        "\t\tplt.xlabel(\"Fecha\") # Escribimos la etiqueta del eje x\n",
        "\t\tplt.ylabel(variable) # Escribimos la etiqueta del eje y\n",
        "\t\tplt.xticks(rotation=30, ha='right') # Ajuste de diseño\n",
        "\t\tplt.title(\"Serie de tiempo para \"+ str(variable)+ \" en estación \"+ str(cod_station)+\"\\nPeriodos entre \"+ str(min_date) + \" y \" + str(max_date), fontsize=16) #titulo\n",
        "\t\tplt.show() #mostrar gráfico"
      ],
      "metadata": {
        "id": "1G8lAmBcvHvy"
      },
      "execution_count": 13,
      "outputs": []
    },
    {
      "cell_type": "markdown",
      "source": [
        "Probamos la correcta ejecución de la función"
      ],
      "metadata": {
        "id": "SQ3JmrG1vJ8s"
      }
    },
    {
      "cell_type": "code",
      "source": [
        "plot_one_timeserie(1001001, 'temp_max', '1980-01-01', '1990-01-01')"
      ],
      "metadata": {
        "colab": {
          "base_uri": "https://localhost:8080/",
          "height": 328
        },
        "id": "vyK4J8JNvJfp",
        "outputId": "490599c1-64c0-4bae-a059-7e39b99c2549"
      },
      "execution_count": 14,
      "outputs": [
        {
          "output_type": "display_data",
          "data": {
            "text/plain": [
              "<Figure size 432x288 with 1 Axes>"
            ],
            "image/png": "[encoded data removed]"
          },
          "metadata": {
            "needs_background": "light"
          }
        }
      ]
    },
    {
      "cell_type": "markdown",
      "source": [
        "Vemos que para esa estación específica no tenemos datos entre los años 1980 y 1987, lo cual debemos tener en cuenta al considerar posibles implicaciones que afecten nuesro modelado al intentar hacer lags."
      ],
      "metadata": {
        "id": "87DNvcqAj3Kc"
      }
    },
    {
      "cell_type": "markdown",
      "source": [
        "Ahora creamos una función que grafica una serie de tiempo para un periodo específico, mostrando la evolución en el tiempo de las 3 variables. \n",
        "Iniciaremos normalizando las 3 variables de interes para que queden bajo la misma escala y sean comparables de forma más sencilla en el gráfico\n"
      ],
      "metadata": {
        "id": "MTNiRkPh4RVC"
      }
    },
    {
      "cell_type": "code",
      "source": [
        "def plot_three_timeseries(cod_station, min_date, max_date):\n",
        "  df2 = df[(df[\"basin_id\"]==cod_station) & (df['date']>=min_date) & (df['date']<=max_date)] #Filtramos la base\n",
        "  df3 = df2[[\"flux\",\"precip\",\"temp_max\"]] #Seleccionamos las variables que queremos normalizar  \n",
        "  df2 = df2.drop([\"flux\",\"precip\",\"temp_max\"], axis=1) #Eliminamos estas mismas variables de la base original \n",
        "  df3 = (df3 - df3.min()) / (df3.max() - df3.min()) #Normalizamos las variables en base al minimo y máximo  \n",
        "  df2= pd.concat([df2, df3], axis=1) #Volvemos a unir ambas bases \n",
        "  plt.plot(df2['date'],df2['flux'], color='red', label='Flujo', linewidth=3) #Gráficamos flux en función del tiempo\n",
        "  plt.plot(df2['date'],df2['precip'], color='blue', label='Precipitación', linewidth=3) #Gráficamos precip en funcion del tiempo\n",
        "  plt.plot(df2['date'],df2['temp_max'], color='green', label='Temperatura', linewidth=3) #Graficamos temp_max en función del tiempo\n",
        "  plt.xlabel(\"Fecha\") #Escribimos el nombre del eje x\n",
        "  plt.ylabel(\"Variables normalizadas\") #Escribimos el nombre del eje y\n",
        "  plt.xticks(rotation=30, ha='right') #Ajustes de diseño\n",
        "  plt.legend(bbox_to_anchor=(1.05, 1)) #Ajustes de diseño\n",
        "  plt.title(\"Series de tiempo en estación \"+ str(cod_station)+\"\\nPeriodos entre \"+ str(min_date) + \" y \" + str(max_date), y=1.05, fontsize=18) #Titulo del gráfico\n",
        "  plt.show() #Mostrar gráfico"
      ],
      "metadata": {
        "id": "ETtnbcYh4RDY"
      },
      "execution_count": 15,
      "outputs": []
    },
    {
      "cell_type": "markdown",
      "source": [
        "Probamos la función para comprobar su correcta ejecucion"
      ],
      "metadata": {
        "id": "_i33w7OF42V7"
      }
    },
    {
      "cell_type": "code",
      "source": [
        "plot_three_timeseries(1001001, '1987-01-01', '1990-01-01')"
      ],
      "metadata": {
        "colab": {
          "base_uri": "https://localhost:8080/",
          "height": 351
        },
        "id": "4kll_g5z407B",
        "outputId": "d02ab46a-e55d-4947-c2e7-68d22178ee1b"
      },
      "execution_count": 16,
      "outputs": [
        {
          "output_type": "display_data",
          "data": {
            "text/plain": [
              "<Figure size 432x288 with 1 Axes>"
            ],
            "image/png": "[encoded data removed]"
          },
          "metadata": {
            "needs_background": "light"
          }
        }
      ]
    },
    {
      "cell_type": "markdown",
      "source": [
        "Podemos notar que, al menos en el periodo de tiempo seleccionado se observa que las variables no tienen igual tendencia en el tiempo. Por ejemplo, los peaks de las variables no ocurren en la misma época (probablemente se muevan en mayor medida con las estaciones del año). "
      ],
      "metadata": {
        "id": "9cEJNg-EU91o"
      }
    },
    {
      "cell_type": "markdown",
      "source": [
        "## Creamos nuevas variables\n",
        "Para crear las variables solicitadas, comenzaremos realizando una marca de la estación del año en que fue tomada la observación. Es importante considerar que para este ejercicio se aproximó la estación en base al mes del año buscando simplicidad, pero la fecha podría no ser exactamente esa estación.\n"
      ],
      "metadata": {
        "id": "jP5TLxcUHoM2"
      }
    },
    {
      "cell_type": "code",
      "source": [
        "df[\"month\"] = df[\"date\"].dt.month #Creamos variable que indique el mes del año (valor entre 1 y 12)\n",
        "df.loc[((df[\"month\"]==1) | (df[\"month\"]==2) | (df[\"month\"]==3) ,\"estacion\")]=\"verano\" #ene,feb y mar se dejan como verano\n",
        "df.loc[((df[\"month\"]==4) | (df[\"month\"]==5) | (df[\"month\"]==6) ,\"estacion\")]=\"otono\" #abr, may, jun se dejan como otoño\n",
        "df.loc[((df[\"month\"]==7) | (df[\"month\"]==8) | (df[\"month\"]==9) ,\"estacion\")]=\"invierno\" #jul, ago, sep se dejan como invierno\n",
        "df.loc[((df[\"month\"]==10) | (df[\"month\"]==11) | (df[\"month\"]==12) ,\"estacion\")]=\"primavera\" #oct, nov, dic se dejan como primavera\n",
        "df.groupby('estacion').count() #chequeamos que el resultado es correcto"
      ],
      "metadata": {
        "colab": {
          "base_uri": "https://localhost:8080/",
          "height": 206
        },
        "id": "0hPqPOh6Nver",
        "outputId": "7628f615-468a-4360-e9b0-59c8d40a06ea"
      },
      "execution_count": 17,
      "outputs": [
        {
          "output_type": "execute_result",
          "data": {
            "text/plain": [
              "              date  basin_id     flux   precip  temp_max  gauge_name      lat  \\\n",
              "estacion                                                                        \n",
              "invierno   1039808   1039808  1039808  1039808   1039808     1039808  1039808   \n",
              "otono      1038166   1038166  1038166  1038166   1038166     1038166  1038166   \n",
              "primavera  1050439   1050439  1050439  1050439   1050439     1050439  1050439   \n",
              "verano     1046624   1046624  1046624  1046624   1046624     1046624  1046624   \n",
              "\n",
              "               lon  mean_elev  area_km2     year    month  \n",
              "estacion                                                   \n",
              "invierno   1039808    1039808   1039808  1039808  1039808  \n",
              "otono      1038166    1038166   1038166  1038166  1038166  \n",
              "primavera  1050439    1050439   1050439  1050439  1050439  \n",
              "verano     1046624    1046624   1046624  1046624  1046624  "
            ],
            "text/html": [
              "\n",
              "  <div id=\"df-7eaf0e52-fddf-4f70-86b7-c6c9b0a7ecad\">\n",
              "    <div class=\"colab-df-container\">\n",
              "      <div>\n",
              "<style scoped>\n",
              "    .dataframe tbody tr th:only-of-type {\n",
              "        vertical-align: middle;\n",
              "    }\n",
              "\n",
              "    .dataframe tbody tr th {\n",
              "        vertical-align: top;\n",
              "    }\n",
              "\n",
              "    .dataframe thead th {\n",
              "        text-align: right;\n",
              "    }\n",
              "</style>\n",
              "<table border=\"1\" class=\"dataframe\">\n",
              "  <thead>\n",
              "    <tr style=\"text-align: right;\">\n",
              "      <th></th>\n",
              "      <th>date</th>\n",
              "      <th>basin_id</th>\n",
              "      <th>flux</th>\n",
              "      <th>precip</th>\n",
              "      <th>temp_max</th>\n",
              "      <th>gauge_name</th>\n",
              "      <th>lat</th>\n",
              "      <th>lon</th>\n",
              "      <th>mean_elev</th>\n",
              "      <th>area_km2</th>\n",
              "      <th>year</th>\n",
              "      <th>month</th>\n",
              "    </tr>\n",
              "    <tr>\n",
              "      <th>estacion</th>\n",
              "      <th></th>\n",
              "      <th></th>\n",
              "      <th></th>\n",
              "      <th></th>\n",
              "      <th></th>\n",
              "      <th></th>\n",
              "      <th></th>\n",
              "      <th></th>\n",
              "      <th></th>\n",
              "      <th></th>\n",
              "      <th></th>\n",
              "      <th></th>\n",
              "    </tr>\n",
              "  </thead>\n",
              "  <tbody>\n",
              "    <tr>\n",
              "      <th>invierno</th>\n",
              "      <td>1039808</td>\n",
              "      <td>1039808</td>\n",
              "      <td>1039808</td>\n",
              "      <td>1039808</td>\n",
              "      <td>1039808</td>\n",
              "      <td>1039808</td>\n",
              "      <td>1039808</td>\n",
              "      <td>1039808</td>\n",
              "      <td>1039808</td>\n",
              "      <td>1039808</td>\n",
              "      <td>1039808</td>\n",
              "      <td>1039808</td>\n",
              "    </tr>\n",
              "    <tr>\n",
              "      <th>otono</th>\n",
              "      <td>1038166</td>\n",
              "      <td>1038166</td>\n",
              "      <td>1038166</td>\n",
              "      <td>1038166</td>\n",
              "      <td>1038166</td>\n",
              "      <td>1038166</td>\n",
              "      <td>1038166</td>\n",
              "      <td>1038166</td>\n",
              "      <td>1038166</td>\n",
              "      <td>1038166</td>\n",
              "      <td>1038166</td>\n",
              "      <td>1038166</td>\n",
              "    </tr>\n",
              "    <tr>\n",
              "      <th>primavera</th>\n",
              "      <td>1050439</td>\n",
              "      <td>1050439</td>\n",
              "      <td>1050439</td>\n",
              "      <td>1050439</td>\n",
              "      <td>1050439</td>\n",
              "      <td>1050439</td>\n",
              "      <td>1050439</td>\n",
              "      <td>1050439</td>\n",
              "      <td>1050439</td>\n",
              "      <td>1050439</td>\n",
              "      <td>1050439</td>\n",
              "      <td>1050439</td>\n",
              "    </tr>\n",
              "    <tr>\n",
              "      <th>verano</th>\n",
              "      <td>1046624</td>\n",
              "      <td>1046624</td>\n",
              "      <td>1046624</td>\n",
              "      <td>1046624</td>\n",
              "      <td>1046624</td>\n",
              "      <td>1046624</td>\n",
              "      <td>1046624</td>\n",
              "      <td>1046624</td>\n",
              "      <td>1046624</td>\n",
              "      <td>1046624</td>\n",
              "      <td>1046624</td>\n",
              "      <td>1046624</td>\n",
              "    </tr>\n",
              "  </tbody>\n",
              "</table>\n",
              "</div>\n",
              "      <button class=\"colab-df-convert\" onclick=\"convertToInteractive('df-7eaf0e52-fddf-4f70-86b7-c6c9b0a7ecad')\"\n",
              "              title=\"Convert this dataframe to an interactive table.\"\n",
              "              style=\"display:none;\">\n",
              "        \n",
              "  <svg xmlns=\"http://www.w3.org/2000/svg\" height=\"24px\"viewBox=\"0 0 24 24\"\n",
              "       width=\"24px\">\n",
              "    <path d=\"M0 0h24v24H0V0z\" fill=\"none\"/>\n",
              "    <path d=\"M18.56 5.44l.94 2.06.94-2.06 2.06-.94-2.06-.94-.94-2.06-.94 2.06-2.06.94zm-11 1L8.5 8.5l.94-2.06 2.06-.94-2.06-.94L8.5 2.5l-.94 2.06-2.06.94zm10 10l.94 2.06.94-2.06 2.06-.94-2.06-.94-.94-2.06-.94 2.06-2.06.94z\"/><path d=\"M17.41 7.96l-1.37-1.37c-.4-.4-.92-.59-1.43-.59-.52 0-1.04.2-1.43.59L10.3 9.45l-7.72 7.72c-.78.78-.78 2.05 0 2.83L4 21.41c.39.39.9.59 1.41.59.51 0 1.02-.2 1.41-.59l7.78-7.78 2.81-2.81c.8-.78.8-2.07 0-2.86zM5.41 20L4 18.59l7.72-7.72 1.47 1.35L5.41 20z\"/>\n",
              "  </svg>\n",
              "      </button>\n",
              "      \n",
              "  <style>\n",
              "    .colab-df-container {\n",
              "      display:flex;\n",
              "      flex-wrap:wrap;\n",
              "      gap: 12px;\n",
              "    }\n",
              "\n",
              "    .colab-df-convert {\n",
              "      background-color: #E8F0FE;\n",
              "      border: none;\n",
              "      border-radius: 50%;\n",
              "      cursor: pointer;\n",
              "      display: none;\n",
              "      fill: #1967D2;\n",
              "      height: 32px;\n",
              "      padding: 0 0 0 0;\n",
              "      width: 32px;\n",
              "    }\n",
              "\n",
              "    .colab-df-convert:hover {\n",
              "      background-color: #E2EBFA;\n",
              "      box-shadow: 0px 1px 2px rgba(60, 64, 67, 0.3), 0px 1px 3px 1px rgba(60, 64, 67, 0.15);\n",
              "      fill: #174EA6;\n",
              "    }\n",
              "\n",
              "    [theme=dark] .colab-df-convert {\n",
              "      background-color: #3B4455;\n",
              "      fill: #D2E3FC;\n",
              "    }\n",
              "\n",
              "    [theme=dark] .colab-df-convert:hover {\n",
              "      background-color: #434B5C;\n",
              "      box-shadow: 0px 1px 3px 1px rgba(0, 0, 0, 0.15);\n",
              "      filter: drop-shadow(0px 1px 2px rgba(0, 0, 0, 0.3));\n",
              "      fill: #FFFFFF;\n",
              "    }\n",
              "  </style>\n",
              "\n",
              "      <script>\n",
              "        const buttonEl =\n",
              "          document.querySelector('#df-7eaf0e52-fddf-4f70-86b7-c6c9b0a7ecad button.colab-df-convert');\n",
              "        buttonEl.style.display =\n",
              "          google.colab.kernel.accessAllowed ? 'block' : 'none';\n",
              "\n",
              "        async function convertToInteractive(key) {\n",
              "          const element = document.querySelector('#df-7eaf0e52-fddf-4f70-86b7-c6c9b0a7ecad');\n",
              "          const dataTable =\n",
              "            await google.colab.kernel.invokeFunction('convertToInteractive',\n",
              "                                                     [key], {});\n",
              "          if (!dataTable) return;\n",
              "\n",
              "          const docLinkHtml = 'Like what you see? Visit the ' +\n",
              "            '<a target=\"_blank\" href=https://colab.research.google.com/notebooks/data_table.ipynb>data table notebook</a>'\n",
              "            + ' to learn more about interactive tables.';\n",
              "          element.innerHTML = '';\n",
              "          dataTable['output_type'] = 'display_data';\n",
              "          await google.colab.output.renderOutput(dataTable, element);\n",
              "          const docLink = document.createElement('div');\n",
              "          docLink.innerHTML = docLinkHtml;\n",
              "          element.appendChild(docLink);\n",
              "        }\n",
              "      </script>\n",
              "    </div>\n",
              "  </div>\n",
              "  "
            ]
          },
          "metadata": {},
          "execution_count": 17
        }
      ]
    },
    {
      "cell_type": "markdown",
      "source": [
        "En base a la variable creada anteriormente, se procede a crear la variable 'flux_extreme', la cual tendrá el valor 1 si el flujo de aquel día está sobre el percentil 95 para esa estación del año y 0 en caso contrario."
      ],
      "metadata": {
        "id": "8JBsOMEgO7oB"
      }
    },
    {
      "cell_type": "code",
      "source": [
        "df.loc[(df[\"estacion\"]==\"verano\") & (df[\"flux\"]>=np.percentile(df[df[\"estacion\"]==\"verano\"][\"flux\"], 95)), \"flux_extreme\"] =1 #verano que sea flux_extreme\n",
        "df.loc[(df[\"estacion\"]==\"verano\") & (df[\"flux\"]<np.percentile(df[df[\"estacion\"]==\"verano\"][\"flux\"], 95)), \"flux_extreme\"] =0 #verano que no sea flux_extreme\n",
        "df.loc[(df[\"estacion\"]==\"otono\") & (df[\"flux\"]>=np.percentile(df[df[\"estacion\"]==\"otono\"][\"flux\"], 95)), \"flux_extreme\"] =1 #otoño que sea flux_extreme\n",
        "df.loc[(df[\"estacion\"]==\"otono\") & (df[\"flux\"]<np.percentile(df[df[\"estacion\"]==\"otono\"][\"flux\"], 95)), \"flux_extreme\"] =0 #otoño que no sea flux_extreme\n",
        "df.loc[(df[\"estacion\"]==\"invierno\") & (df[\"flux\"]>=np.percentile(df[df[\"estacion\"]==\"invierno\"][\"flux\"], 95)), \"flux_extreme\"] =1 #invierno que sea flux_extreme\n",
        "df.loc[(df[\"estacion\"]==\"invierno\") & (df[\"flux\"]<np.percentile(df[df[\"estacion\"]==\"invierno\"][\"flux\"], 95)), \"flux_extreme\"] =0 #invierno que no sea flux_extreme\n",
        "df.loc[(df[\"estacion\"]==\"primavera\") & (df[\"flux\"]>=np.percentile(df[df[\"estacion\"]==\"primavera\"][\"flux\"], 95)), \"flux_extreme\"] =1 #primavera que sea flux_extreme\n",
        "df.loc[(df[\"estacion\"]==\"primavera\") & (df[\"flux\"]<np.percentile(df[df[\"estacion\"]==\"primavera\"][\"flux\"], 95)), \"flux_extreme\"] =0 #primavera que no sea flux_extreme\n",
        "\n",
        "df[\"flux_extreme\"].describe() \n",
        "df.groupby('estacion')['flux_extreme'].value_counts(normalize=True) # chequeamos que la variable se creó correctamente"
      ],
      "metadata": {
        "colab": {
          "base_uri": "https://localhost:8080/"
        },
        "id": "8v02URpkQ06t",
        "outputId": "b5acd6f6-8193-422f-dbe3-b894896b31d7"
      },
      "execution_count": 18,
      "outputs": [
        {
          "output_type": "execute_result",
          "data": {
            "text/plain": [
              "estacion   flux_extreme\n",
              "invierno   0.0             0.949999\n",
              "           1.0             0.050001\n",
              "otono      0.0             0.949973\n",
              "           1.0             0.050027\n",
              "primavera  0.0             0.949999\n",
              "           1.0             0.050001\n",
              "verano     0.0             0.949850\n",
              "           1.0             0.050150\n",
              "Name: flux_extreme, dtype: float64"
            ]
          },
          "metadata": {},
          "execution_count": 18
        }
      ]
    },
    {
      "cell_type": "markdown",
      "source": [
        "Ahora se procede a crear la variable 'temp_extreme', la cual tendrá el valor 1 si la temp de aquel día está sobre el percentil 95 para esa estación del año y 0 en caso contrario."
      ],
      "metadata": {
        "id": "h87jG_Z3ZKOy"
      }
    },
    {
      "cell_type": "code",
      "source": [
        "df.loc[(df[\"estacion\"]==\"verano\") & (df[\"temp_max\"]>=np.percentile(df[df[\"estacion\"]==\"verano\"][\"temp_max\"], 95)), \"temp_extreme\"] =1 #verano que sea temp_extreme\n",
        "df.loc[(df[\"estacion\"]==\"verano\") & (df[\"temp_max\"]<np.percentile(df[df[\"estacion\"]==\"verano\"][\"temp_max\"], 95)), \"temp_extreme\"] =0 #verano que no sea temp_extreme\n",
        "df.loc[(df[\"estacion\"]==\"otono\") & (df[\"temp_max\"]>=np.percentile(df[df[\"estacion\"]==\"otono\"][\"temp_max\"], 95)), \"temp_extreme\"] =1 #otoño que sea temp_extreme\n",
        "df.loc[(df[\"estacion\"]==\"otono\") & (df[\"temp_max\"]<np.percentile(df[df[\"estacion\"]==\"otono\"][\"temp_max\"], 95)), \"temp_extreme\"] =0 #otoño que no sea temp_extreme\n",
        "df.loc[(df[\"estacion\"]==\"invierno\") & (df[\"temp_max\"]>=np.percentile(df[df[\"estacion\"]==\"invierno\"][\"temp_max\"], 95)), \"temp_extreme\"] =1 #invierno que sea temp_extreme\n",
        "df.loc[(df[\"estacion\"]==\"invierno\") & (df[\"temp_max\"]<np.percentile(df[df[\"estacion\"]==\"invierno\"][\"temp_max\"], 95)), \"temp_extreme\"] =0 #invierno que no sea temp_extreme\n",
        "df.loc[(df[\"estacion\"]==\"primavera\") & (df[\"temp_max\"]>=np.percentile(df[df[\"estacion\"]==\"primavera\"][\"temp_max\"], 95)), \"temp_extreme\"] =1 #primavera que sea temp_extreme\n",
        "df.loc[(df[\"estacion\"]==\"primavera\") & (df[\"temp_max\"]<np.percentile(df[df[\"estacion\"]==\"primavera\"][\"temp_max\"], 95)), \"temp_extreme\"] =0 #primavera que no sea temp_extreme\n",
        "\n",
        "df[\"temp_extreme\"].describe() \n",
        "df.groupby('estacion')['temp_extreme'].value_counts(normalize=True) # chequeamos que la variable se creó correctamente"
      ],
      "metadata": {
        "colab": {
          "base_uri": "https://localhost:8080/"
        },
        "id": "ddQtQtenZI6t",
        "outputId": "43486b49-9627-4b5a-b037-19770c8281ef"
      },
      "execution_count": 19,
      "outputs": [
        {
          "output_type": "execute_result",
          "data": {
            "text/plain": [
              "estacion   temp_extreme\n",
              "invierno   0.0             0.949999\n",
              "           1.0             0.050001\n",
              "otono      0.0             0.949999\n",
              "           1.0             0.050001\n",
              "primavera  0.0             0.950000\n",
              "           1.0             0.050000\n",
              "verano     0.0             0.949999\n",
              "           1.0             0.050001\n",
              "Name: temp_extreme, dtype: float64"
            ]
          },
          "metadata": {},
          "execution_count": 19
        }
      ]
    },
    {
      "cell_type": "markdown",
      "source": [
        "Ahora se procede a crear la variable 'precip_extreme', la cual tendrá el valor 1 si la temp de aquel día está sobre el percentil 95 para esa estación del año y 0 en caso contrario."
      ],
      "metadata": {
        "id": "pjOknQZNZ3Su"
      }
    },
    {
      "cell_type": "code",
      "source": [
        "df.loc[(df[\"estacion\"]==\"verano\") & (df[\"precip\"]>=np.percentile(df[df[\"estacion\"]==\"verano\"][\"precip\"], 95)), \"precip_extreme\"] =1 #verano que sea precip_extreme\n",
        "df.loc[(df[\"estacion\"]==\"verano\") & (df[\"precip\"]<np.percentile(df[df[\"estacion\"]==\"verano\"][\"precip\"], 95)), \"precip_extreme\"] =0 #verano que no sea precip_extreme\n",
        "df.loc[(df[\"estacion\"]==\"otono\") & (df[\"precip\"]>=np.percentile(df[df[\"estacion\"]==\"otono\"][\"precip\"], 95)), \"precip_extreme\"] =1 #otoño que sea precip_extreme\n",
        "df.loc[(df[\"estacion\"]==\"otono\") & (df[\"precip\"]<np.percentile(df[df[\"estacion\"]==\"otono\"][\"precip\"], 95)), \"precip_extreme\"] =0 #otoño que no sea precip_extreme\n",
        "df.loc[(df[\"estacion\"]==\"invierno\") & (df[\"precip\"]>=np.percentile(df[df[\"estacion\"]==\"invierno\"][\"precip\"], 95)), \"precip_extreme\"] =1 #invierno que sea precip_extreme\n",
        "df.loc[(df[\"estacion\"]==\"invierno\") & (df[\"precip\"]<np.percentile(df[df[\"estacion\"]==\"invierno\"][\"precip\"], 95)), \"precip_extreme\"] =0 #invierno que no sea precip_extreme\n",
        "df.loc[(df[\"estacion\"]==\"primavera\") & (df[\"precip\"]>=np.percentile(df[df[\"estacion\"]==\"primavera\"][\"precip\"], 95)), \"precip_extreme\"] =1 #primavera que sea precip_extreme\n",
        "df.loc[(df[\"estacion\"]==\"primavera\") & (df[\"precip\"]<np.percentile(df[df[\"estacion\"]==\"primavera\"][\"precip\"], 95)), \"precip_extreme\"] =0 #primavera que no sea precip_extreme\n",
        "\n",
        "df[\"precip_extreme\"].describe() \n",
        "df.groupby('estacion')['precip_extreme'].value_counts(normalize=True) # chequeamos que la variable se creó correctamente"
      ],
      "metadata": {
        "colab": {
          "base_uri": "https://localhost:8080/"
        },
        "id": "nw2FTrHrZ2ML",
        "outputId": "5fd19df4-a35d-47cb-ad25-ba03b750a30b"
      },
      "execution_count": 20,
      "outputs": [
        {
          "output_type": "execute_result",
          "data": {
            "text/plain": [
              "estacion   precip_extreme\n",
              "invierno   0.0               0.949999\n",
              "           1.0               0.050001\n",
              "otono      0.0               0.949999\n",
              "           1.0               0.050001\n",
              "primavera  0.0               0.950000\n",
              "           1.0               0.050000\n",
              "verano     0.0               0.949999\n",
              "           1.0               0.050001\n",
              "Name: precip_extreme, dtype: float64"
            ]
          },
          "metadata": {},
          "execution_count": 20
        }
      ]
    },
    {
      "cell_type": "markdown",
      "source": [
        "Esta podría ser una buena forma de capturar eventos extremos si estuvieramos en un periodo específico del tiempo. Por ejemplo: un periodo de dos años. Pero dado que aqui estamos trabajando con un periodo de casi 40 años no tiene mucho sentido ver cuando ocurren las mayores temperatura en cada estación porque debido al cambio climático las temperaturas hace 40 años definitivamente no eran tan altas o bajas como los son ahora, por ende, esta metodología puede llevar a un sesgo donde los eventos extremos se condencen unicamente en los meses más actuales y a priori antiguamente no ocurrían eventos extremos, lo cual sabemos es falso. \n",
        "Otro enfoque desde el que podriamos afrontar este problema sería analizar los eventos clima extremos (5% superior) pero en cada año o en un periodo de cada 3 años por ejemplo, donde los eventos meteorológivos no cambien de sobremanera entre el año más antiguo y el mas nuevo, evitando así que los eventos extremos parezcan ocurrir unicamente en los últimos años."
      ],
      "metadata": {
        "id": "4oIMdxhdatSD"
      }
    },
    {
      "cell_type": "markdown",
      "source": [
        "## Graficamos la variable flux_extreme\n",
        "En base a la variable que creamos más arriba, graficaremos su cambio en el tiempo, donde diferenciaremos por estación de medición para ver si el comportamiento varía entre estas\n"
      ],
      "metadata": {
        "id": "hwDIf3SuSGQl"
      }
    },
    {
      "cell_type": "code",
      "source": [
        "df.groupby([\"date\",\"gauge_name\"])[\"flux_extreme\"].sum() # Chequeamos de forma rápida la data"
      ],
      "metadata": {
        "colab": {
          "base_uri": "https://localhost:8080/"
        },
        "id": "8aisJ66eSKXS",
        "outputId": "774d1353-3f10-433c-a9a8-7d9b0b1721ff"
      },
      "execution_count": 21,
      "outputs": [
        {
          "output_type": "execute_result",
          "data": {
            "text/plain": [
              "date        gauge_name                             \n",
              "1980-01-01  Estero Alhue En Quilamuta                  0.0\n",
              "            Estero Camisas En Desembocadura            0.0\n",
              "            Estero Cardo Verde En Lo Ubaldo            0.0\n",
              "            Estero Catemu Antes Junta Rio Aconcagua    0.0\n",
              "            Estero Chanco Camino Curacautin            0.0\n",
              "                                                      ... \n",
              "2020-04-29  Rio Tres Brazos Antes Bt. Sendos           0.0\n",
              "            Rio Turbio En Varillar                     0.0\n",
              "            Rio Uble En San Fabian N 2                 0.0\n",
              "            Rio Volcan En Queltehues                   0.0\n",
              "2020-04-30  Rio Biobio En Desembocadura                1.0\n",
              "Name: flux_extreme, Length: 4175037, dtype: float64"
            ]
          },
          "metadata": {},
          "execution_count": 21
        }
      ]
    },
    {
      "cell_type": "code",
      "source": [
        "df[\"gauge_name\"].value_counts() # vemos cuantos datos tenemos en cada estación"
      ],
      "metadata": {
        "colab": {
          "base_uri": "https://localhost:8080/"
        },
        "id": "giJT2j9rXaUc",
        "outputId": "3b0e8a0a-34a1-4375-88b3-1d51a903f907"
      },
      "execution_count": 22,
      "outputs": [
        {
          "output_type": "execute_result",
          "data": {
            "text/plain": [
              "Rio Aconcagua En Chacabuquito                   14638\n",
              "Rio Cruces En Rucaco                            14617\n",
              "Rio Choapa En Cuncumen                          14607\n",
              "Rio Elqui En Algarrobal                         14602\n",
              "Rio Cautin En Cajon                             14571\n",
              "                                                ...  \n",
              "Estero Chimbarongo En Santa Cruz                  328\n",
              "Rio Chillan En Longitudinal                       302\n",
              "Rio Pama Entrada Embalse Cogoti                   195\n",
              "Estero Las Vegas Aguas Abajo Canal Las Vegas      195\n",
              "Rio Blanco En Chaiten                             175\n",
              "Name: gauge_name, Length: 503, dtype: int64"
            ]
          },
          "metadata": {},
          "execution_count": 22
        }
      ]
    },
    {
      "cell_type": "code",
      "source": [
        "for i in range(0,len(df['gauge_name'].unique())): # graficamos cómo varía 'flux_extreme' por día en cada estación\n",
        "  df2 = df[df['gauge_name']==(df['gauge_name'].unique()[i])] #filtramos por estación i\n",
        "  plt.plot(df2['date'] , df2['flux_extreme']) #graficamos la variable\n",
        "\n",
        "plt.show() # mostramos el resultado"
      ],
      "metadata": {
        "colab": {
          "base_uri": "https://localhost:8080/",
          "height": 265
        },
        "id": "xIdsGWLUW8ma",
        "outputId": "155ca567-1591-4899-81dd-b996a130c7df"
      },
      "execution_count": 23,
      "outputs": [
        {
          "output_type": "display_data",
          "data": {
            "text/plain": [
              "<Figure size 432x288 with 1 Axes>"
            ],
            "image/png": "[encoded data removed]"
          },
          "metadata": {
            "needs_background": "light"
          }
        }
      ]
    },
    {
      "cell_type": "markdown",
      "source": [
        "Claramente este gráfico no nos fue de mucha ayuda ya que son demasiadas fechas y estaciones por medir. Reduciremos entonces la dimensionalidad del evento a graficar. Nuestro enfoque será graficar la suma de eventos 'flux_extreme' en cada estación por año y ver cómo varía este."
      ],
      "metadata": {
        "id": "dzGMRgHhlnd9"
      }
    },
    {
      "cell_type": "code",
      "source": [
        "df['year'] = df['date'].dt.year #creamos variable que indique el año de cada observación\n",
        "\n",
        "for i in range(0,len(df['gauge_name'].unique())): #iteramos en todas las estaciones\n",
        "  df2 = df[df['gauge_name']==(df['gauge_name'].unique()[i])] #filtramos por estación i\n",
        "  df2 = df2.groupby(['year'], as_index=False)['flux_extreme'].sum() #calculamos la suma de eventos extremos para cada año\n",
        "  df2.columns=['year','sum_extreme'] # seleccionamos los nuevos nombres de las columnas que utilizaremos\n",
        "  plt.plot(df2['year'] , df2['sum_extreme']) # Gráficamos la cantidad de eventos extremos en función del año para la estación i\n",
        "\n",
        "plt.show() #mostramos el gráfico"
      ],
      "metadata": {
        "colab": {
          "base_uri": "https://localhost:8080/",
          "height": 265
        },
        "id": "WUTUXtNflmt1",
        "outputId": "cf49e134-c819-4849-a6a3-ea0c1f9d1e67"
      },
      "execution_count": 24,
      "outputs": [
        {
          "output_type": "display_data",
          "data": {
            "text/plain": [
              "<Figure size 432x288 with 1 Axes>"
            ],
            "image/png": "[encoded data removed]"
          },
          "metadata": {
            "needs_background": "light"
          }
        }
      ]
    },
    {
      "cell_type": "markdown",
      "source": [
        "Pese a que el gráfico no es lo más amigable posible, de todas maneras se puede observar que entre distintas estaciones los comportamientos varían. Esta variación se observa de dos formas distintas:\n",
        "1) Algunas estaciones presentan hasta 300 veces más eventos extremos que en otras.\n",
        "2) Las tendencias de eventos extremos son distintas: en algunos casos cada vez se han presentado más eventos extremos, mientras que en otros se ha mantenido o incluso ha bajado la cantidad."
      ],
      "metadata": {
        "id": "Hxu7V318mVEI"
      }
    },
    {
      "cell_type": "markdown",
      "source": [
        "Por último graficaremos la cantidad de eventos extremos flux a nivel global y veremos que estos tienen una tendencia a subir en cantidad respecto a años anteriores (exceptuando el año 2020 donde ya sabemos que eliminamos datos por lo que se esperan menor cantidad de datos en total). Esta tendencia al alza podría deberse a que se tienen más mediciones actualmente, luego vale la pena analizarlo desde una mirada porcentual"
      ],
      "metadata": {
        "id": "25xVlBaRndjs"
      }
    },
    {
      "cell_type": "code",
      "source": [
        "df['year'] = df['date'].dt.year #Creamos variable de año\n",
        "df2 = df.groupby(['year'], as_index=False)['flux_extreme'].sum() #Suma de eventos extremos por año\n",
        "df2.columns=['year','sum_extreme'] #renombramos columnas\n",
        "plt.plot(df2['year'],df2['sum_extreme']) #graficamos\n",
        "plt.xlabel(\"Año\") #Escribimos el nombre del eje x\n",
        "plt.ylabel(\"Sum Flux_Extreme\") #Escribimos el nombre del eje y\n",
        "plt.xticks(rotation=30, ha='right') #Ajustes de diseño\n",
        "plt.legend(bbox_to_anchor=(1.05, 1)) #Ajustes de diseño\n",
        "plt.title(\"Gráfico de cantidad de eventos extremos de flujo a lo largo de los años\", y=1.05, fontsize=18) #Titulo del gráfico\n",
        "plt.show()"
      ],
      "metadata": {
        "colab": {
          "base_uri": "https://localhost:8080/",
          "height": 339
        },
        "id": "x-61T1Z7n2wJ",
        "outputId": "caa7f97e-50f2-4673-d1c0-7a9fa03698cc"
      },
      "execution_count": 25,
      "outputs": [
        {
          "output_type": "stream",
          "name": "stderr",
          "text": [
            "No handles with labels found to put in legend.\n"
          ]
        },
        {
          "output_type": "display_data",
          "data": {
            "text/plain": [
              "<Figure size 432x288 with 1 Axes>"
            ],
            "image/png": "[encoded data removed]"
          },
          "metadata": {
            "needs_background": "light"
          }
        }
      ]
    },
    {
      "cell_type": "markdown",
      "source": [
        "## Graficamos el porcentaje de eventos extremos\n",
        "A continuación lo analizaremos en términos porcentuales, entendiendo que el hecho de que ocurran 30 eventos extremos en 300 mediciones es menos cantidad de casos respecto a que ocurran 10 eventos en 20 mediciones. Luego, tomar los eventos extremos desde una perspectiva de contraste con los eventos totales podría ser una mejor alternativa."
      ],
      "metadata": {
        "id": "A60i3ks5Som6"
      }
    },
    {
      "cell_type": "code",
      "source": [
        "df['year'] = df['date'].dt.year #Definimos variable de año\n",
        "df2 = df.groupby(['year'], as_index=False)['flux_extreme'].sum() #Cantidad de eventos flux extreme ese año\n",
        "df2.columns=['year','sum_extreme'] #renombramos columnas\n",
        "df3 = df.groupby(['year'], as_index=False)['flux_extreme'].count() #Cantidad de mediciones ese año\n",
        "df3.columns=['year','count'] #renombramos columnas\n",
        "df2 = df2.merge(df3, how='left', on='year') #Juntamos ambas bases\n",
        "df2['%extreme']=df2['sum_extreme']/df2['count'] #Calculamos porcentaje de flux_extreme\n",
        "df2['%extreme'].describe() #chequeamos que la variable se creó correctamente"
      ],
      "metadata": {
        "colab": {
          "base_uri": "https://localhost:8080/"
        },
        "id": "dyZnEUBiSr4J",
        "outputId": "00b36a12-8f2b-4346-c4e1-db4966e11b1a"
      },
      "execution_count": 26,
      "outputs": [
        {
          "output_type": "execute_result",
          "data": {
            "text/plain": [
              "count    41.000000\n",
              "mean      0.048612\n",
              "std       0.021222\n",
              "min       0.019173\n",
              "25%       0.032500\n",
              "50%       0.044972\n",
              "75%       0.065915\n",
              "max       0.094119\n",
              "Name: %extreme, dtype: float64"
            ]
          },
          "metadata": {},
          "execution_count": 26
        }
      ]
    },
    {
      "cell_type": "code",
      "source": [
        "plt.plot(df2['year'],df2['%extreme']) #Gráficamos eventos extremos flux en función del tiempo\n",
        "plt.xlabel(\"Año\") #Escribimos el nombre del eje x\n",
        "plt.ylabel(\"% Flux_extreme\") #Escribimos el nombre del eje y\n",
        "plt.xticks(rotation=30, ha='right') #Ajustes de diseño\n",
        "plt.legend(bbox_to_anchor=(1.05, 1)) #Ajustes de diseño\n",
        "plt.title(\"Porcentaje de Flux_extreme a lo largo de los años\", y=1.05, fontsize=18) #Titulo del gráfico\n",
        "plt.show()  "
      ],
      "metadata": {
        "colab": {
          "base_uri": "https://localhost:8080/",
          "height": 339
        },
        "id": "mWFja-OQjDMH",
        "outputId": "0fa1d27c-fd6e-434b-a0d3-6825e3dfd398"
      },
      "execution_count": 27,
      "outputs": [
        {
          "output_type": "stream",
          "name": "stderr",
          "text": [
            "No handles with labels found to put in legend.\n"
          ]
        },
        {
          "output_type": "display_data",
          "data": {
            "text/plain": [
              "<Figure size 432x288 with 1 Axes>"
            ],
            "image/png": "[encoded data removed]"
          },
          "metadata": {
            "needs_background": "light"
          }
        }
      ]
    },
    {
      "cell_type": "markdown",
      "source": [
        "Vemos que efectivamente han presentado una tendencia al alza en los últimos años, especialmente posterior al año 2000 donde presentó una alza considerable para luego estabilizarse levemente. \n",
        "Notemos tambien que esa \"baja\" que habíamos notado en el gráfico anterior durante el 2020 efectivamente estaba erronea y se había ensuciado debido a la cantidad de datos que eliminamos inicialmente. Por esta razón era importante analizar los datos de forma porcentual."
      ],
      "metadata": {
        "id": "gPpnXi1HStPF"
      }
    },
    {
      "cell_type": "markdown",
      "source": [
        "## Predicción de Extreme Flux\n",
        "A continuación, entrenaremos algunos modelos que nos permitan estimar la probabilidad de que ocurra un extreme flux.\n",
        "Comenzaremos estableciendo cómo se utilizará el modelo y en base a esto qué variables utilizaremos o necesitaremos crear (teniendo en cuenta la temporalidad). "
      ],
      "metadata": {
        "id": "9k3zivCOnq8u"
      }
    },
    {
      "cell_type": "markdown",
      "source": [
        "El modelo podría usarse para predecir si al día siguiente ocurrirá un 'extreme flux'. Esto podría ser muy útil para tanto entidades gubernamentales como organizaciones sociales, donde podrían actuar, prepararse y prevenir posibles catástrofes que podrían ocurrir por el evento meteorológico. De esa forma, permitiría ejercer un plan de acción para prepararse antes de que el evento ocurra.\n",
        "\n",
        "\n",
        "Bajo esta misma línea, no tiene sentido predecir lo que ocurrirá hoy debido a que deja poco espacio de acción y el sentido del modelo de prevenir catástrofes se perdería. \n"
      ],
      "metadata": {
        "id": "8ptEcr_spG7S"
      }
    },
    {
      "cell_type": "markdown",
      "source": [
        "En base a esto, supongamos que el uso del modelo será que cada día se entrene con variables disponibles en ese entonces: es decir, no podremos entrenar con la data del mismo día ya que aún no la tendremos, ni menos aún data del futuro. \n",
        "\n",
        "\n",
        "Target: Dada la data disponible hasta el día previo a la predicción, ¿Ocurrirá un evento extremo al día siguiente?\n",
        "\n",
        "\n",
        "Lag: Como se puede notar existirá un lag de 2 días entre la data que se usa y el día que se busca predecir.\n",
        "\n",
        "\n",
        "Variables que se utilizarán: \n",
        "- Precipitación t-2 días\n",
        "- Temperatura máxima t-2 días\n",
        "- Flex t-2 días\n",
        "- Flux_extreme t-2 días\n",
        "- Temp_extreme t-2 días\n",
        "- Precip_extreme t-2 días\n",
        "- Variación Flex t-4 y t-2 : se creará esta variable con el fin de capturar la tendencia de flex en los días previos, si se nota una alza podría indicar una posible alza nuevamente a futuro.\n",
        "- Porcentaje y cantidad de eventos extremos que ocurrieron el año previo en esa estación: Incluir las estaciones donde ocurren mayor % de eventos extremos podría ayudarnos a predecir un posible nuevo evento extremo.\n",
        "- Días transcurridos desde el último evento extremo en ese lugar: capturaría la probabilidad de que vuelva a ocurrir un evento dado que ya ocurío uno hace cierta cantidad de días\n",
        "- Estación del año\n",
        "- Cuántos eventos extremos ocurrieron el mes previo: Nos ayuda capturando información previa\n",
        "- Cuántos eventos extremos ocurrieron el mismo mes hace un año: nos ayuda a capturar la temporalidad del año\n",
        "- Mes \n",
        "- Mean elevación del lugar\n",
        "- Area kilometros cuadrados"
      ],
      "metadata": {
        "id": "WBJrUNW_rtmt"
      }
    },
    {
      "cell_type": "code",
      "source": [
        "# Generamos el tablon final con todas las variables que utilizaremos para entrenar: df_modelo\n",
        "\n",
        "# 1) Agregamos precip, temp, flux, flux_extreme, temp_extreme, precip_extreme 2 días antes.\n",
        "df[\"dia-2\"]= df[\"date\"]- dt.timedelta(days=2)  #Establecemos qué fecha era 2 días antes\n",
        "dic = df[[\"basin_id\",\"precip\",\"flux\",\"temp_max\",\"date\",\"temp_extreme\",\"flux_extreme\",\"precip_extreme\"]]\n",
        "dic.columns=[\"basin_id\",\"precip_2\",\"flux_2\",\"temp_max_2\",\"date2\",\"temp_extreme_2\",\"flux_extreme_2\",\"precip_extreme_2\"] # Hacemos diccionario que contenga basin_id, precip, flux, temp_max y dia-2 \n",
        "df = pd.merge(df, dic,  how='left', left_on=['basin_id','dia-2'], right_on = ['basin_id','date2'])\n",
        "df.head()"
      ],
      "metadata": {
        "colab": {
          "base_uri": "https://localhost:8080/",
          "height": 577
        },
        "id": "i3bEdgXlt0xH",
        "outputId": "e19ed074-7deb-48a7-dcf3-1d52bcd13405"
      },
      "execution_count": 28,
      "outputs": [
        {
          "output_type": "execute_result",
          "data": {
            "text/plain": [
              "        date  basin_id   flux  precip   temp_max                 gauge_name  \\\n",
              "0 1980-01-01   1001001  0.579     0.0  10.685653  Rio Caquena En Nacimiento   \n",
              "1 1980-01-02   1001001  0.543     0.0  11.470960  Rio Caquena En Nacimiento   \n",
              "2 1980-01-03   1001001  0.482     0.0  11.947457  Rio Caquena En Nacimiento   \n",
              "3 1980-01-04   1001001  0.459     0.0  12.424489  Rio Caquena En Nacimiento   \n",
              "4 1980-01-05   1001001  0.436     0.0  12.649203  Rio Caquena En Nacimiento   \n",
              "\n",
              "       lat      lon    mean_elev   area_km2  ...  temp_extreme  \\\n",
              "0 -18.0769 -69.1961  4842.449328  49.711859  ...           0.0   \n",
              "1 -18.0769 -69.1961  4842.449328  49.711859  ...           0.0   \n",
              "2 -18.0769 -69.1961  4842.449328  49.711859  ...           0.0   \n",
              "3 -18.0769 -69.1961  4842.449328  49.711859  ...           0.0   \n",
              "4 -18.0769 -69.1961  4842.449328  49.711859  ...           0.0   \n",
              "\n",
              "   precip_extreme      dia-2  precip_2  flux_2  temp_max_2      date2  \\\n",
              "0             0.0 1979-12-30       NaN     NaN         NaN        NaT   \n",
              "1             0.0 1979-12-31       NaN     NaN         NaN        NaT   \n",
              "2             0.0 1980-01-01       0.0   0.579   10.685653 1980-01-01   \n",
              "3             0.0 1980-01-02       0.0   0.543   11.470960 1980-01-02   \n",
              "4             0.0 1980-01-03       0.0   0.482   11.947457 1980-01-03   \n",
              "\n",
              "   temp_extreme_2  flux_extreme_2  precip_extreme_2  \n",
              "0             NaN             NaN               NaN  \n",
              "1             NaN             NaN               NaN  \n",
              "2             0.0             0.0               0.0  \n",
              "3             0.0             0.0               0.0  \n",
              "4             0.0             0.0               0.0  \n",
              "\n",
              "[5 rows x 24 columns]"
            ],
            "text/html": [
              "\n",
              "  <div id=\"df-f9257a4f-5141-45c9-a4b7-cf79aa048cd7\">\n",
              "    <div class=\"colab-df-container\">\n",
              "      <div>\n",
              "<style scoped>\n",
              "    .dataframe tbody tr th:only-of-type {\n",
              "        vertical-align: middle;\n",
              "    }\n",
              "\n",
              "    .dataframe tbody tr th {\n",
              "        vertical-align: top;\n",
              "    }\n",
              "\n",
              "    .dataframe thead th {\n",
              "        text-align: right;\n",
              "    }\n",
              "</style>\n",
              "<table border=\"1\" class=\"dataframe\">\n",
              "  <thead>\n",
              "    <tr style=\"text-align: right;\">\n",
              "      <th></th>\n",
              "      <th>date</th>\n",
              "      <th>basin_id</th>\n",
              "      <th>flux</th>\n",
              "      <th>precip</th>\n",
              "      <th>temp_max</th>\n",
              "      <th>gauge_name</th>\n",
              "      <th>lat</th>\n",
              "      <th>lon</th>\n",
              "      <th>mean_elev</th>\n",
              "      <th>area_km2</th>\n",
              "      <th>...</th>\n",
              "      <th>temp_extreme</th>\n",
              "      <th>precip_extreme</th>\n",
              "      <th>dia-2</th>\n",
              "      <th>precip_2</th>\n",
              "      <th>flux_2</th>\n",
              "      <th>temp_max_2</th>\n",
              "      <th>date2</th>\n",
              "      <th>temp_extreme_2</th>\n",
              "      <th>flux_extreme_2</th>\n",
              "      <th>precip_extreme_2</th>\n",
              "    </tr>\n",
              "  </thead>\n",
              "  <tbody>\n",
              "    <tr>\n",
              "      <th>0</th>\n",
              "      <td>1980-01-01</td>\n",
              "      <td>1001001</td>\n",
              "      <td>0.579</td>\n",
              "      <td>0.0</td>\n",
              "      <td>10.685653</td>\n",
              "      <td>Rio Caquena En Nacimiento</td>\n",
              "      <td>-18.0769</td>\n",
              "      <td>-69.1961</td>\n",
              "      <td>4842.449328</td>\n",
              "      <td>49.711859</td>\n",
              "      <td>...</td>\n",
              "      <td>0.0</td>\n",
              "      <td>0.0</td>\n",
              "      <td>1979-12-30</td>\n",
              "      <td>NaN</td>\n",
              "      <td>NaN</td>\n",
              "      <td>NaN</td>\n",
              "      <td>NaT</td>\n",
              "      <td>NaN</td>\n",
              "      <td>NaN</td>\n",
              "      <td>NaN</td>\n",
              "    </tr>\n",
              "    <tr>\n",
              "      <th>1</th>\n",
              "      <td>1980-01-02</td>\n",
              "      <td>1001001</td>\n",
              "      <td>0.543</td>\n",
              "      <td>0.0</td>\n",
              "      <td>11.470960</td>\n",
              "      <td>Rio Caquena En Nacimiento</td>\n",
              "      <td>-18.0769</td>\n",
              "      <td>-69.1961</td>\n",
              "      <td>4842.449328</td>\n",
              "      <td>49.711859</td>\n",
              "      <td>...</td>\n",
              "      <td>0.0</td>\n",
              "      <td>0.0</td>\n",
              "      <td>1979-12-31</td>\n",
              "      <td>NaN</td>\n",
              "      <td>NaN</td>\n",
              "      <td>NaN</td>\n",
              "      <td>NaT</td>\n",
              "      <td>NaN</td>\n",
              "      <td>NaN</td>\n",
              "      <td>NaN</td>\n",
              "    </tr>\n",
              "    <tr>\n",
              "      <th>2</th>\n",
              "      <td>1980-01-03</td>\n",
              "      <td>1001001</td>\n",
              "      <td>0.482</td>\n",
              "      <td>0.0</td>\n",
              "      <td>11.947457</td>\n",
              "      <td>Rio Caquena En Nacimiento</td>\n",
              "      <td>-18.0769</td>\n",
              "      <td>-69.1961</td>\n",
              "      <td>4842.449328</td>\n",
              "      <td>49.711859</td>\n",
              "      <td>...</td>\n",
              "      <td>0.0</td>\n",
              "      <td>0.0</td>\n",
              "      <td>1980-01-01</td>\n",
              "      <td>0.0</td>\n",
              "      <td>0.579</td>\n",
              "      <td>10.685653</td>\n",
              "      <td>1980-01-01</td>\n",
              "      <td>0.0</td>\n",
              "      <td>0.0</td>\n",
              "      <td>0.0</td>\n",
              "    </tr>\n",
              "    <tr>\n",
              "      <th>3</th>\n",
              "      <td>1980-01-04</td>\n",
              "      <td>1001001</td>\n",
              "      <td>0.459</td>\n",
              "      <td>0.0</td>\n",
              "      <td>12.424489</td>\n",
              "      <td>Rio Caquena En Nacimiento</td>\n",
              "      <td>-18.0769</td>\n",
              "      <td>-69.1961</td>\n",
              "      <td>4842.449328</td>\n",
              "      <td>49.711859</td>\n",
              "      <td>...</td>\n",
              "      <td>0.0</td>\n",
              "      <td>0.0</td>\n",
              "      <td>1980-01-02</td>\n",
              "      <td>0.0</td>\n",
              "      <td>0.543</td>\n",
              "      <td>11.470960</td>\n",
              "      <td>1980-01-02</td>\n",
              "      <td>0.0</td>\n",
              "      <td>0.0</td>\n",
              "      <td>0.0</td>\n",
              "    </tr>\n",
              "    <tr>\n",
              "      <th>4</th>\n",
              "      <td>1980-01-05</td>\n",
              "      <td>1001001</td>\n",
              "      <td>0.436</td>\n",
              "      <td>0.0</td>\n",
              "      <td>12.649203</td>\n",
              "      <td>Rio Caquena En Nacimiento</td>\n",
              "      <td>-18.0769</td>\n",
              "      <td>-69.1961</td>\n",
              "      <td>4842.449328</td>\n",
              "      <td>49.711859</td>\n",
              "      <td>...</td>\n",
              "      <td>0.0</td>\n",
              "      <td>0.0</td>\n",
              "      <td>1980-01-03</td>\n",
              "      <td>0.0</td>\n",
              "      <td>0.482</td>\n",
              "      <td>11.947457</td>\n",
              "      <td>1980-01-03</td>\n",
              "      <td>0.0</td>\n",
              "      <td>0.0</td>\n",
              "      <td>0.0</td>\n",
              "    </tr>\n",
              "  </tbody>\n",
              "</table>\n",
              "<p>5 rows × 24 columns</p>\n",
              "</div>\n",
              "      <button class=\"colab-df-convert\" onclick=\"convertToInteractive('df-f9257a4f-5141-45c9-a4b7-cf79aa048cd7')\"\n",
              "              title=\"Convert this dataframe to an interactive table.\"\n",
              "              style=\"display:none;\">\n",
              "        \n",
              "  <svg xmlns=\"http://www.w3.org/2000/svg\" height=\"24px\"viewBox=\"0 0 24 24\"\n",
              "       width=\"24px\">\n",
              "    <path d=\"M0 0h24v24H0V0z\" fill=\"none\"/>\n",
              "    <path d=\"M18.56 5.44l.94 2.06.94-2.06 2.06-.94-2.06-.94-.94-2.06-.94 2.06-2.06.94zm-11 1L8.5 8.5l.94-2.06 2.06-.94-2.06-.94L8.5 2.5l-.94 2.06-2.06.94zm10 10l.94 2.06.94-2.06 2.06-.94-2.06-.94-.94-2.06-.94 2.06-2.06.94z\"/><path d=\"M17.41 7.96l-1.37-1.37c-.4-.4-.92-.59-1.43-.59-.52 0-1.04.2-1.43.59L10.3 9.45l-7.72 7.72c-.78.78-.78 2.05 0 2.83L4 21.41c.39.39.9.59 1.41.59.51 0 1.02-.2 1.41-.59l7.78-7.78 2.81-2.81c.8-.78.8-2.07 0-2.86zM5.41 20L4 18.59l7.72-7.72 1.47 1.35L5.41 20z\"/>\n",
              "  </svg>\n",
              "      </button>\n",
              "      \n",
              "  <style>\n",
              "    .colab-df-container {\n",
              "      display:flex;\n",
              "      flex-wrap:wrap;\n",
              "      gap: 12px;\n",
              "    }\n",
              "\n",
              "    .colab-df-convert {\n",
              "      background-color: #E8F0FE;\n",
              "      border: none;\n",
              "      border-radius: 50%;\n",
              "      cursor: pointer;\n",
              "      display: none;\n",
              "      fill: #1967D2;\n",
              "      height: 32px;\n",
              "      padding: 0 0 0 0;\n",
              "      width: 32px;\n",
              "    }\n",
              "\n",
              "    .colab-df-convert:hover {\n",
              "      background-color: #E2EBFA;\n",
              "      box-shadow: 0px 1px 2px rgba(60, 64, 67, 0.3), 0px 1px 3px 1px rgba(60, 64, 67, 0.15);\n",
              "      fill: #174EA6;\n",
              "    }\n",
              "\n",
              "    [theme=dark] .colab-df-convert {\n",
              "      background-color: #3B4455;\n",
              "      fill: #D2E3FC;\n",
              "    }\n",
              "\n",
              "    [theme=dark] .colab-df-convert:hover {\n",
              "      background-color: #434B5C;\n",
              "      box-shadow: 0px 1px 3px 1px rgba(0, 0, 0, 0.15);\n",
              "      filter: drop-shadow(0px 1px 2px rgba(0, 0, 0, 0.3));\n",
              "      fill: #FFFFFF;\n",
              "    }\n",
              "  </style>\n",
              "\n",
              "      <script>\n",
              "        const buttonEl =\n",
              "          document.querySelector('#df-f9257a4f-5141-45c9-a4b7-cf79aa048cd7 button.colab-df-convert');\n",
              "        buttonEl.style.display =\n",
              "          google.colab.kernel.accessAllowed ? 'block' : 'none';\n",
              "\n",
              "        async function convertToInteractive(key) {\n",
              "          const element = document.querySelector('#df-f9257a4f-5141-45c9-a4b7-cf79aa048cd7');\n",
              "          const dataTable =\n",
              "            await google.colab.kernel.invokeFunction('convertToInteractive',\n",
              "                                                     [key], {});\n",
              "          if (!dataTable) return;\n",
              "\n",
              "          const docLinkHtml = 'Like what you see? Visit the ' +\n",
              "            '<a target=\"_blank\" href=https://colab.research.google.com/notebooks/data_table.ipynb>data table notebook</a>'\n",
              "            + ' to learn more about interactive tables.';\n",
              "          element.innerHTML = '';\n",
              "          dataTable['output_type'] = 'display_data';\n",
              "          await google.colab.output.renderOutput(dataTable, element);\n",
              "          const docLink = document.createElement('div');\n",
              "          docLink.innerHTML = docLinkHtml;\n",
              "          element.appendChild(docLink);\n",
              "        }\n",
              "      </script>\n",
              "    </div>\n",
              "  </div>\n",
              "  "
            ]
          },
          "metadata": {},
          "execution_count": 28
        }
      ]
    },
    {
      "cell_type": "code",
      "source": [
        "# 2) Agregamos variación flux t-4 y t-2\n",
        "df[\"dia-4\"]= df[\"date\"]- dt.timedelta(days=4)  #Establecemos qué fecha era 4 días antes\n",
        "dic = df[[\"basin_id\",\"flux\", \"date\"]]\n",
        "dic.columns=[\"basin_id\",\"flux_4\",\"date4\"] # Hacemos diccionario\n",
        "df = pd.merge(df, dic,  how='left', left_on=['basin_id','dia-4'], right_on = ['basin_id','date4'])\n",
        "df[\"var_flux_2_4\"]=df[\"flux_2\"]-df[\"flux_4\"]\n",
        "df.head()"
      ],
      "metadata": {
        "colab": {
          "base_uri": "https://localhost:8080/",
          "height": 577
        },
        "id": "0D3CojdzxPMM",
        "outputId": "b52b0b9a-00c0-47d6-9503-cc2b2638e604"
      },
      "execution_count": 29,
      "outputs": [
        {
          "output_type": "execute_result",
          "data": {
            "text/plain": [
              "        date  basin_id   flux  precip   temp_max                 gauge_name  \\\n",
              "0 1980-01-01   1001001  0.579     0.0  10.685653  Rio Caquena En Nacimiento   \n",
              "1 1980-01-02   1001001  0.543     0.0  11.470960  Rio Caquena En Nacimiento   \n",
              "2 1980-01-03   1001001  0.482     0.0  11.947457  Rio Caquena En Nacimiento   \n",
              "3 1980-01-04   1001001  0.459     0.0  12.424489  Rio Caquena En Nacimiento   \n",
              "4 1980-01-05   1001001  0.436     0.0  12.649203  Rio Caquena En Nacimiento   \n",
              "\n",
              "       lat      lon    mean_elev   area_km2  ...  flux_2  temp_max_2  \\\n",
              "0 -18.0769 -69.1961  4842.449328  49.711859  ...     NaN         NaN   \n",
              "1 -18.0769 -69.1961  4842.449328  49.711859  ...     NaN         NaN   \n",
              "2 -18.0769 -69.1961  4842.449328  49.711859  ...   0.579   10.685653   \n",
              "3 -18.0769 -69.1961  4842.449328  49.711859  ...   0.543   11.470960   \n",
              "4 -18.0769 -69.1961  4842.449328  49.711859  ...   0.482   11.947457   \n",
              "\n",
              "       date2  temp_extreme_2  flux_extreme_2  precip_extreme_2      dia-4  \\\n",
              "0        NaT             NaN             NaN               NaN 1979-12-28   \n",
              "1        NaT             NaN             NaN               NaN 1979-12-29   \n",
              "2 1980-01-01             0.0             0.0               0.0 1979-12-30   \n",
              "3 1980-01-02             0.0             0.0               0.0 1979-12-31   \n",
              "4 1980-01-03             0.0             0.0               0.0 1980-01-01   \n",
              "\n",
              "   flux_4      date4  var_flux_2_4  \n",
              "0     NaN        NaT           NaN  \n",
              "1     NaN        NaT           NaN  \n",
              "2     NaN        NaT           NaN  \n",
              "3     NaN        NaT           NaN  \n",
              "4   0.579 1980-01-01        -0.097  \n",
              "\n",
              "[5 rows x 28 columns]"
            ],
            "text/html": [
              "\n",
              "  <div id=\"df-6ac5b6ab-fbb1-4d1d-828c-23bcfd4d46d3\">\n",
              "    <div class=\"colab-df-container\">\n",
              "      <div>\n",
              "<style scoped>\n",
              "    .dataframe tbody tr th:only-of-type {\n",
              "        vertical-align: middle;\n",
              "    }\n",
              "\n",
              "    .dataframe tbody tr th {\n",
              "        vertical-align: top;\n",
              "    }\n",
              "\n",
              "    .dataframe thead th {\n",
              "        text-align: right;\n",
              "    }\n",
              "</style>\n",
              "<table border=\"1\" class=\"dataframe\">\n",
              "  <thead>\n",
              "    <tr style=\"text-align: right;\">\n",
              "      <th></th>\n",
              "      <th>date</th>\n",
              "      <th>basin_id</th>\n",
              "      <th>flux</th>\n",
              "      <th>precip</th>\n",
              "      <th>temp_max</th>\n",
              "      <th>gauge_name</th>\n",
              "      <th>lat</th>\n",
              "      <th>lon</th>\n",
              "      <th>mean_elev</th>\n",
              "      <th>area_km2</th>\n",
              "      <th>...</th>\n",
              "      <th>flux_2</th>\n",
              "      <th>temp_max_2</th>\n",
              "      <th>date2</th>\n",
              "      <th>temp_extreme_2</th>\n",
              "      <th>flux_extreme_2</th>\n",
              "      <th>precip_extreme_2</th>\n",
              "      <th>dia-4</th>\n",
              "      <th>flux_4</th>\n",
              "      <th>date4</th>\n",
              "      <th>var_flux_2_4</th>\n",
              "    </tr>\n",
              "  </thead>\n",
              "  <tbody>\n",
              "    <tr>\n",
              "      <th>0</th>\n",
              "      <td>1980-01-01</td>\n",
              "      <td>1001001</td>\n",
              "      <td>0.579</td>\n",
              "      <td>0.0</td>\n",
              "      <td>10.685653</td>\n",
              "      <td>Rio Caquena En Nacimiento</td>\n",
              "      <td>-18.0769</td>\n",
              "      <td>-69.1961</td>\n",
              "      <td>4842.449328</td>\n",
              "      <td>49.711859</td>\n",
              "      <td>...</td>\n",
              "      <td>NaN</td>\n",
              "      <td>NaN</td>\n",
              "      <td>NaT</td>\n",
              "      <td>NaN</td>\n",
              "      <td>NaN</td>\n",
              "      <td>NaN</td>\n",
              "      <td>1979-12-28</td>\n",
              "      <td>NaN</td>\n",
              "      <td>NaT</td>\n",
              "      <td>NaN</td>\n",
              "    </tr>\n",
              "    <tr>\n",
              "      <th>1</th>\n",
              "      <td>1980-01-02</td>\n",
              "      <td>1001001</td>\n",
              "      <td>0.543</td>\n",
              "      <td>0.0</td>\n",
              "      <td>11.470960</td>\n",
              "      <td>Rio Caquena En Nacimiento</td>\n",
              "      <td>-18.0769</td>\n",
              "      <td>-69.1961</td>\n",
              "      <td>4842.449328</td>\n",
              "      <td>49.711859</td>\n",
              "      <td>...</td>\n",
              "      <td>NaN</td>\n",
              "      <td>NaN</td>\n",
              "      <td>NaT</td>\n",
              "      <td>NaN</td>\n",
              "      <td>NaN</td>\n",
              "      <td>NaN</td>\n",
              "      <td>1979-12-29</td>\n",
              "      <td>NaN</td>\n",
              "      <td>NaT</td>\n",
              "      <td>NaN</td>\n",
              "    </tr>\n",
              "    <tr>\n",
              "      <th>2</th>\n",
              "      <td>1980-01-03</td>\n",
              "      <td>1001001</td>\n",
              "      <td>0.482</td>\n",
              "      <td>0.0</td>\n",
              "      <td>11.947457</td>\n",
              "      <td>Rio Caquena En Nacimiento</td>\n",
              "      <td>-18.0769</td>\n",
              "      <td>-69.1961</td>\n",
              "      <td>4842.449328</td>\n",
              "      <td>49.711859</td>\n",
              "      <td>...</td>\n",
              "      <td>0.579</td>\n",
              "      <td>10.685653</td>\n",
              "      <td>1980-01-01</td>\n",
              "      <td>0.0</td>\n",
              "      <td>0.0</td>\n",
              "      <td>0.0</td>\n",
              "      <td>1979-12-30</td>\n",
              "      <td>NaN</td>\n",
              "      <td>NaT</td>\n",
              "      <td>NaN</td>\n",
              "    </tr>\n",
              "    <tr>\n",
              "      <th>3</th>\n",
              "      <td>1980-01-04</td>\n",
              "      <td>1001001</td>\n",
              "      <td>0.459</td>\n",
              "      <td>0.0</td>\n",
              "      <td>12.424489</td>\n",
              "      <td>Rio Caquena En Nacimiento</td>\n",
              "      <td>-18.0769</td>\n",
              "      <td>-69.1961</td>\n",
              "      <td>4842.449328</td>\n",
              "      <td>49.711859</td>\n",
              "      <td>...</td>\n",
              "      <td>0.543</td>\n",
              "      <td>11.470960</td>\n",
              "      <td>1980-01-02</td>\n",
              "      <td>0.0</td>\n",
              "      <td>0.0</td>\n",
              "      <td>0.0</td>\n",
              "      <td>1979-12-31</td>\n",
              "      <td>NaN</td>\n",
              "      <td>NaT</td>\n",
              "      <td>NaN</td>\n",
              "    </tr>\n",
              "    <tr>\n",
              "      <th>4</th>\n",
              "      <td>1980-01-05</td>\n",
              "      <td>1001001</td>\n",
              "      <td>0.436</td>\n",
              "      <td>0.0</td>\n",
              "      <td>12.649203</td>\n",
              "      <td>Rio Caquena En Nacimiento</td>\n",
              "      <td>-18.0769</td>\n",
              "      <td>-69.1961</td>\n",
              "      <td>4842.449328</td>\n",
              "      <td>49.711859</td>\n",
              "      <td>...</td>\n",
              "      <td>0.482</td>\n",
              "      <td>11.947457</td>\n",
              "      <td>1980-01-03</td>\n",
              "      <td>0.0</td>\n",
              "      <td>0.0</td>\n",
              "      <td>0.0</td>\n",
              "      <td>1980-01-01</td>\n",
              "      <td>0.579</td>\n",
              "      <td>1980-01-01</td>\n",
              "      <td>-0.097</td>\n",
              "    </tr>\n",
              "  </tbody>\n",
              "</table>\n",
              "<p>5 rows × 28 columns</p>\n",
              "</div>\n",
              "      <button class=\"colab-df-convert\" onclick=\"convertToInteractive('df-6ac5b6ab-fbb1-4d1d-828c-23bcfd4d46d3')\"\n",
              "              title=\"Convert this dataframe to an interactive table.\"\n",
              "              style=\"display:none;\">\n",
              "        \n",
              "  <svg xmlns=\"http://www.w3.org/2000/svg\" height=\"24px\"viewBox=\"0 0 24 24\"\n",
              "       width=\"24px\">\n",
              "    <path d=\"M0 0h24v24H0V0z\" fill=\"none\"/>\n",
              "    <path d=\"M18.56 5.44l.94 2.06.94-2.06 2.06-.94-2.06-.94-.94-2.06-.94 2.06-2.06.94zm-11 1L8.5 8.5l.94-2.06 2.06-.94-2.06-.94L8.5 2.5l-.94 2.06-2.06.94zm10 10l.94 2.06.94-2.06 2.06-.94-2.06-.94-.94-2.06-.94 2.06-2.06.94z\"/><path d=\"M17.41 7.96l-1.37-1.37c-.4-.4-.92-.59-1.43-.59-.52 0-1.04.2-1.43.59L10.3 9.45l-7.72 7.72c-.78.78-.78 2.05 0 2.83L4 21.41c.39.39.9.59 1.41.59.51 0 1.02-.2 1.41-.59l7.78-7.78 2.81-2.81c.8-.78.8-2.07 0-2.86zM5.41 20L4 18.59l7.72-7.72 1.47 1.35L5.41 20z\"/>\n",
              "  </svg>\n",
              "      </button>\n",
              "      \n",
              "  <style>\n",
              "    .colab-df-container {\n",
              "      display:flex;\n",
              "      flex-wrap:wrap;\n",
              "      gap: 12px;\n",
              "    }\n",
              "\n",
              "    .colab-df-convert {\n",
              "      background-color: #E8F0FE;\n",
              "      border: none;\n",
              "      border-radius: 50%;\n",
              "      cursor: pointer;\n",
              "      display: none;\n",
              "      fill: #1967D2;\n",
              "      height: 32px;\n",
              "      padding: 0 0 0 0;\n",
              "      width: 32px;\n",
              "    }\n",
              "\n",
              "    .colab-df-convert:hover {\n",
              "      background-color: #E2EBFA;\n",
              "      box-shadow: 0px 1px 2px rgba(60, 64, 67, 0.3), 0px 1px 3px 1px rgba(60, 64, 67, 0.15);\n",
              "      fill: #174EA6;\n",
              "    }\n",
              "\n",
              "    [theme=dark] .colab-df-convert {\n",
              "      background-color: #3B4455;\n",
              "      fill: #D2E3FC;\n",
              "    }\n",
              "\n",
              "    [theme=dark] .colab-df-convert:hover {\n",
              "      background-color: #434B5C;\n",
              "      box-shadow: 0px 1px 3px 1px rgba(0, 0, 0, 0.15);\n",
              "      filter: drop-shadow(0px 1px 2px rgba(0, 0, 0, 0.3));\n",
              "      fill: #FFFFFF;\n",
              "    }\n",
              "  </style>\n",
              "\n",
              "      <script>\n",
              "        const buttonEl =\n",
              "          document.querySelector('#df-6ac5b6ab-fbb1-4d1d-828c-23bcfd4d46d3 button.colab-df-convert');\n",
              "        buttonEl.style.display =\n",
              "          google.colab.kernel.accessAllowed ? 'block' : 'none';\n",
              "\n",
              "        async function convertToInteractive(key) {\n",
              "          const element = document.querySelector('#df-6ac5b6ab-fbb1-4d1d-828c-23bcfd4d46d3');\n",
              "          const dataTable =\n",
              "            await google.colab.kernel.invokeFunction('convertToInteractive',\n",
              "                                                     [key], {});\n",
              "          if (!dataTable) return;\n",
              "\n",
              "          const docLinkHtml = 'Like what you see? Visit the ' +\n",
              "            '<a target=\"_blank\" href=https://colab.research.google.com/notebooks/data_table.ipynb>data table notebook</a>'\n",
              "            + ' to learn more about interactive tables.';\n",
              "          element.innerHTML = '';\n",
              "          dataTable['output_type'] = 'display_data';\n",
              "          await google.colab.output.renderOutput(dataTable, element);\n",
              "          const docLink = document.createElement('div');\n",
              "          docLink.innerHTML = docLinkHtml;\n",
              "          element.appendChild(docLink);\n",
              "        }\n",
              "      </script>\n",
              "    </div>\n",
              "  </div>\n",
              "  "
            ]
          },
          "metadata": {},
          "execution_count": 29
        }
      ]
    },
    {
      "cell_type": "code",
      "source": [
        "#Cantidad de eventos extremos que ocurrieron el año previo en esa estación: \n",
        "dic = df.groupby([\"year\",\"estacion\"], as_index=False)[\"flux_extreme\"].sum() #Hacemos un diccionario que contenga por año y estacion la cantidad de flux extremos ocurrieron\n",
        "dic.columns=['year1','estacion','sum_extreme_year_1'] #renombramos columnas\n",
        "df[\"year-1\"]= df[\"year\"]- 1  #Establecemos qué fecha era 1 año antes\n",
        "df = pd.merge(df, dic,  how='left', left_on=['year-1','estacion'], right_on = ['year1','estacion'])\n",
        "df[\"sum_extreme_year_1\"].describe()"
      ],
      "metadata": {
        "colab": {
          "base_uri": "https://localhost:8080/"
        },
        "id": "LXTfaDZ4ydlQ",
        "outputId": "f9efcab4-76f8-4f2b-e2f5-1348df562125"
      },
      "execution_count": 30,
      "outputs": [
        {
          "output_type": "execute_result",
          "data": {
            "text/plain": [
              "count    4.104023e+06\n",
              "mean     1.373695e+03\n",
              "std      7.447830e+02\n",
              "min      1.120000e+02\n",
              "25%      7.090000e+02\n",
              "50%      1.305000e+03\n",
              "75%      2.039000e+03\n",
              "max      2.920000e+03\n",
              "Name: sum_extreme_year_1, dtype: float64"
            ]
          },
          "metadata": {},
          "execution_count": 30
        }
      ]
    },
    {
      "cell_type": "code",
      "source": [
        "#Cantidad de eventos extremos que ocurrieron el mes previo en esa estacion meteorologica: \n",
        "dic = df.groupby([\"month\",\"year\", \"basin_id\"], as_index=False)[\"flux_extreme\"].sum() #Hacemos un diccionario que contenga por mes y año la q de flux extreme\n",
        "dic.columns=['month1','year','basin_id','sum_extreme_month_1'] #renombramos columnas\n",
        "df[\"month-1\"]= df[\"month\"]- 1  #Establecemos qué fecha era 1 mes antes\n",
        "df.loc[df[\"month-1\"]==0,\"month-1\"]=12\n",
        "df[\"month-1\"].describe()\n",
        "df = pd.merge(df, dic,  how='left', left_on=['month-1','year','basin_id'], right_on = ['month1','year','basin_id'])\n",
        "df[\"sum_extreme_month_1\"].describe()"
      ],
      "metadata": {
        "colab": {
          "base_uri": "https://localhost:8080/"
        },
        "id": "SHNYJdFQ1tcP",
        "outputId": "d73f4c8e-ffb4-4730-dbf4-3ed5c439591b"
      },
      "execution_count": 31,
      "outputs": [
        {
          "output_type": "execute_result",
          "data": {
            "text/plain": [
              "count    4.087996e+06\n",
              "mean     1.492198e+00\n",
              "std      5.928078e+00\n",
              "min      0.000000e+00\n",
              "25%      0.000000e+00\n",
              "50%      0.000000e+00\n",
              "75%      0.000000e+00\n",
              "max      3.100000e+01\n",
              "Name: sum_extreme_month_1, dtype: float64"
            ]
          },
          "metadata": {},
          "execution_count": 31
        }
      ]
    },
    {
      "cell_type": "markdown",
      "source": [
        "Por temas de tiempo, no se alcanzó a implementar todas las variables propuestas. También existe la opción de agregar variables externas que podrían estar correlacionadas con la ocurrencia de este tipo de efectos climatológicos. Por ejemplo, la contaminación si se relaciona activamente con las temperaturas que tenemos, por ende se podría agregar información ambiental sobre la contaminación. \n",
        "\n",
        "\n",
        "Construiremos entonces el tablón final con las variables que utilizaremos para modelar"
      ],
      "metadata": {
        "id": "dvlxQNpo5HHB"
      }
    },
    {
      "cell_type": "code",
      "source": [
        "df.info()"
      ],
      "metadata": {
        "colab": {
          "base_uri": "https://localhost:8080/"
        },
        "id": "nEWe6jnF5puT",
        "outputId": "fccd2560-c70b-409d-f98c-77cc5aceb03a"
      },
      "execution_count": 32,
      "outputs": [
        {
          "output_type": "stream",
          "name": "stdout",
          "text": [
            "<class 'pandas.core.frame.DataFrame'>\n",
            "Int64Index: 4175037 entries, 0 to 4175036\n",
            "Data columns (total 34 columns):\n",
            " #   Column               Dtype         \n",
            "---  ------               -----         \n",
            " 0   date                 datetime64[ns]\n",
            " 1   basin_id             int64         \n",
            " 2   flux                 float64       \n",
            " 3   precip               float64       \n",
            " 4   temp_max             float64       \n",
            " 5   gauge_name           object        \n",
            " 6   lat                  float64       \n",
            " 7   lon                  float64       \n",
            " 8   mean_elev            float64       \n",
            " 9   area_km2             float64       \n",
            " 10  year                 int64         \n",
            " 11  month                int64         \n",
            " 12  estacion             object        \n",
            " 13  flux_extreme         float64       \n",
            " 14  temp_extreme         float64       \n",
            " 15  precip_extreme       float64       \n",
            " 16  dia-2                datetime64[ns]\n",
            " 17  precip_2             float64       \n",
            " 18  flux_2               float64       \n",
            " 19  temp_max_2           float64       \n",
            " 20  date2                datetime64[ns]\n",
            " 21  temp_extreme_2       float64       \n",
            " 22  flux_extreme_2       float64       \n",
            " 23  precip_extreme_2     float64       \n",
            " 24  dia-4                datetime64[ns]\n",
            " 25  flux_4               float64       \n",
            " 26  date4                datetime64[ns]\n",
            " 27  var_flux_2_4         float64       \n",
            " 28  year-1               int64         \n",
            " 29  year1                float64       \n",
            " 30  sum_extreme_year_1   float64       \n",
            " 31  month-1              int64         \n",
            " 32  month1               float64       \n",
            " 33  sum_extreme_month_1  float64       \n",
            "dtypes: datetime64[ns](5), float64(22), int64(5), object(2)\n",
            "memory usage: 1.1+ GB\n"
          ]
        }
      ]
    },
    {
      "cell_type": "code",
      "source": [
        "#Tablon final donde seleccionamos solo las variables que utilizaremos\n",
        "df_modelo = df[[\"lat\", \"lon\",\"mean_elev\",\"area_km2\",\"year\", \"month\", \n",
        "                \"flux_extreme\", \"precip_2\",\"flux_2\",\"temp_max_2\",\"temp_extreme_2\",\n",
        "                \"flux_extreme_2\", \"precip_extreme_2\",\"var_flux_2_4\",\"sum_extreme_year_1\", \"sum_extreme_month_1\"]]\n",
        "df_modelo.head()"
      ],
      "metadata": {
        "colab": {
          "base_uri": "https://localhost:8080/",
          "height": 270
        },
        "id": "kgk8JmD_rn5H",
        "outputId": "27764d62-9a9a-4e09-bf93-c229608e6ece"
      },
      "execution_count": 33,
      "outputs": [
        {
          "output_type": "execute_result",
          "data": {
            "text/plain": [
              "       lat      lon    mean_elev   area_km2  year  month  flux_extreme  \\\n",
              "0 -18.0769 -69.1961  4842.449328  49.711859  1980      1           0.0   \n",
              "1 -18.0769 -69.1961  4842.449328  49.711859  1980      1           0.0   \n",
              "2 -18.0769 -69.1961  4842.449328  49.711859  1980      1           0.0   \n",
              "3 -18.0769 -69.1961  4842.449328  49.711859  1980      1           0.0   \n",
              "4 -18.0769 -69.1961  4842.449328  49.711859  1980      1           0.0   \n",
              "\n",
              "   precip_2  flux_2  temp_max_2  temp_extreme_2  flux_extreme_2  \\\n",
              "0       NaN     NaN         NaN             NaN             NaN   \n",
              "1       NaN     NaN         NaN             NaN             NaN   \n",
              "2       0.0   0.579   10.685653             0.0             0.0   \n",
              "3       0.0   0.543   11.470960             0.0             0.0   \n",
              "4       0.0   0.482   11.947457             0.0             0.0   \n",
              "\n",
              "   precip_extreme_2  var_flux_2_4  sum_extreme_year_1  sum_extreme_month_1  \n",
              "0               NaN           NaN                 NaN                  0.0  \n",
              "1               NaN           NaN                 NaN                  0.0  \n",
              "2               0.0           NaN                 NaN                  0.0  \n",
              "3               0.0           NaN                 NaN                  0.0  \n",
              "4               0.0        -0.097                 NaN                  0.0  "
            ],
            "text/html": [
              "\n",
              "  <div id=\"df-4dbfee4a-fb31-46ee-bf91-b1c4f0252eaf\">\n",
              "    <div class=\"colab-df-container\">\n",
              "      <div>\n",
              "<style scoped>\n",
              "    .dataframe tbody tr th:only-of-type {\n",
              "        vertical-align: middle;\n",
              "    }\n",
              "\n",
              "    .dataframe tbody tr th {\n",
              "        vertical-align: top;\n",
              "    }\n",
              "\n",
              "    .dataframe thead th {\n",
              "        text-align: right;\n",
              "    }\n",
              "</style>\n",
              "<table border=\"1\" class=\"dataframe\">\n",
              "  <thead>\n",
              "    <tr style=\"text-align: right;\">\n",
              "      <th></th>\n",
              "      <th>lat</th>\n",
              "      <th>lon</th>\n",
              "      <th>mean_elev</th>\n",
              "      <th>area_km2</th>\n",
              "      <th>year</th>\n",
              "      <th>month</th>\n",
              "      <th>flux_extreme</th>\n",
              "      <th>precip_2</th>\n",
              "      <th>flux_2</th>\n",
              "      <th>temp_max_2</th>\n",
              "      <th>temp_extreme_2</th>\n",
              "      <th>flux_extreme_2</th>\n",
              "      <th>precip_extreme_2</th>\n",
              "      <th>var_flux_2_4</th>\n",
              "      <th>sum_extreme_year_1</th>\n",
              "      <th>sum_extreme_month_1</th>\n",
              "    </tr>\n",
              "  </thead>\n",
              "  <tbody>\n",
              "    <tr>\n",
              "      <th>0</th>\n",
              "      <td>-18.0769</td>\n",
              "      <td>-69.1961</td>\n",
              "      <td>4842.449328</td>\n",
              "      <td>49.711859</td>\n",
              "      <td>1980</td>\n",
              "      <td>1</td>\n",
              "      <td>0.0</td>\n",
              "      <td>NaN</td>\n",
              "      <td>NaN</td>\n",
              "      <td>NaN</td>\n",
              "      <td>NaN</td>\n",
              "      <td>NaN</td>\n",
              "      <td>NaN</td>\n",
              "      <td>NaN</td>\n",
              "      <td>NaN</td>\n",
              "      <td>0.0</td>\n",
              "    </tr>\n",
              "    <tr>\n",
              "      <th>1</th>\n",
              "      <td>-18.0769</td>\n",
              "      <td>-69.1961</td>\n",
              "      <td>4842.449328</td>\n",
              "      <td>49.711859</td>\n",
              "      <td>1980</td>\n",
              "      <td>1</td>\n",
              "      <td>0.0</td>\n",
              "      <td>NaN</td>\n",
              "      <td>NaN</td>\n",
              "      <td>NaN</td>\n",
              "      <td>NaN</td>\n",
              "      <td>NaN</td>\n",
              "      <td>NaN</td>\n",
              "      <td>NaN</td>\n",
              "      <td>NaN</td>\n",
              "      <td>0.0</td>\n",
              "    </tr>\n",
              "    <tr>\n",
              "      <th>2</th>\n",
              "      <td>-18.0769</td>\n",
              "      <td>-69.1961</td>\n",
              "      <td>4842.449328</td>\n",
              "      <td>49.711859</td>\n",
              "      <td>1980</td>\n",
              "      <td>1</td>\n",
              "      <td>0.0</td>\n",
              "      <td>0.0</td>\n",
              "      <td>0.579</td>\n",
              "      <td>10.685653</td>\n",
              "      <td>0.0</td>\n",
              "      <td>0.0</td>\n",
              "      <td>0.0</td>\n",
              "      <td>NaN</td>\n",
              "      <td>NaN</td>\n",
              "      <td>0.0</td>\n",
              "    </tr>\n",
              "    <tr>\n",
              "      <th>3</th>\n",
              "      <td>-18.0769</td>\n",
              "      <td>-69.1961</td>\n",
              "      <td>4842.449328</td>\n",
              "      <td>49.711859</td>\n",
              "      <td>1980</td>\n",
              "      <td>1</td>\n",
              "      <td>0.0</td>\n",
              "      <td>0.0</td>\n",
              "      <td>0.543</td>\n",
              "      <td>11.470960</td>\n",
              "      <td>0.0</td>\n",
              "      <td>0.0</td>\n",
              "      <td>0.0</td>\n",
              "      <td>NaN</td>\n",
              "      <td>NaN</td>\n",
              "      <td>0.0</td>\n",
              "    </tr>\n",
              "    <tr>\n",
              "      <th>4</th>\n",
              "      <td>-18.0769</td>\n",
              "      <td>-69.1961</td>\n",
              "      <td>4842.449328</td>\n",
              "      <td>49.711859</td>\n",
              "      <td>1980</td>\n",
              "      <td>1</td>\n",
              "      <td>0.0</td>\n",
              "      <td>0.0</td>\n",
              "      <td>0.482</td>\n",
              "      <td>11.947457</td>\n",
              "      <td>0.0</td>\n",
              "      <td>0.0</td>\n",
              "      <td>0.0</td>\n",
              "      <td>-0.097</td>\n",
              "      <td>NaN</td>\n",
              "      <td>0.0</td>\n",
              "    </tr>\n",
              "  </tbody>\n",
              "</table>\n",
              "</div>\n",
              "      <button class=\"colab-df-convert\" onclick=\"convertToInteractive('df-4dbfee4a-fb31-46ee-bf91-b1c4f0252eaf')\"\n",
              "              title=\"Convert this dataframe to an interactive table.\"\n",
              "              style=\"display:none;\">\n",
              "        \n",
              "  <svg xmlns=\"http://www.w3.org/2000/svg\" height=\"24px\"viewBox=\"0 0 24 24\"\n",
              "       width=\"24px\">\n",
              "    <path d=\"M0 0h24v24H0V0z\" fill=\"none\"/>\n",
              "    <path d=\"M18.56 5.44l.94 2.06.94-2.06 2.06-.94-2.06-.94-.94-2.06-.94 2.06-2.06.94zm-11 1L8.5 8.5l.94-2.06 2.06-.94-2.06-.94L8.5 2.5l-.94 2.06-2.06.94zm10 10l.94 2.06.94-2.06 2.06-.94-2.06-.94-.94-2.06-.94 2.06-2.06.94z\"/><path d=\"M17.41 7.96l-1.37-1.37c-.4-.4-.92-.59-1.43-.59-.52 0-1.04.2-1.43.59L10.3 9.45l-7.72 7.72c-.78.78-.78 2.05 0 2.83L4 21.41c.39.39.9.59 1.41.59.51 0 1.02-.2 1.41-.59l7.78-7.78 2.81-2.81c.8-.78.8-2.07 0-2.86zM5.41 20L4 18.59l7.72-7.72 1.47 1.35L5.41 20z\"/>\n",
              "  </svg>\n",
              "      </button>\n",
              "      \n",
              "  <style>\n",
              "    .colab-df-container {\n",
              "      display:flex;\n",
              "      flex-wrap:wrap;\n",
              "      gap: 12px;\n",
              "    }\n",
              "\n",
              "    .colab-df-convert {\n",
              "      background-color: #E8F0FE;\n",
              "      border: none;\n",
              "      border-radius: 50%;\n",
              "      cursor: pointer;\n",
              "      display: none;\n",
              "      fill: #1967D2;\n",
              "      height: 32px;\n",
              "      padding: 0 0 0 0;\n",
              "      width: 32px;\n",
              "    }\n",
              "\n",
              "    .colab-df-convert:hover {\n",
              "      background-color: #E2EBFA;\n",
              "      box-shadow: 0px 1px 2px rgba(60, 64, 67, 0.3), 0px 1px 3px 1px rgba(60, 64, 67, 0.15);\n",
              "      fill: #174EA6;\n",
              "    }\n",
              "\n",
              "    [theme=dark] .colab-df-convert {\n",
              "      background-color: #3B4455;\n",
              "      fill: #D2E3FC;\n",
              "    }\n",
              "\n",
              "    [theme=dark] .colab-df-convert:hover {\n",
              "      background-color: #434B5C;\n",
              "      box-shadow: 0px 1px 3px 1px rgba(0, 0, 0, 0.15);\n",
              "      filter: drop-shadow(0px 1px 2px rgba(0, 0, 0, 0.3));\n",
              "      fill: #FFFFFF;\n",
              "    }\n",
              "  </style>\n",
              "\n",
              "      <script>\n",
              "        const buttonEl =\n",
              "          document.querySelector('#df-4dbfee4a-fb31-46ee-bf91-b1c4f0252eaf button.colab-df-convert');\n",
              "        buttonEl.style.display =\n",
              "          google.colab.kernel.accessAllowed ? 'block' : 'none';\n",
              "\n",
              "        async function convertToInteractive(key) {\n",
              "          const element = document.querySelector('#df-4dbfee4a-fb31-46ee-bf91-b1c4f0252eaf');\n",
              "          const dataTable =\n",
              "            await google.colab.kernel.invokeFunction('convertToInteractive',\n",
              "                                                     [key], {});\n",
              "          if (!dataTable) return;\n",
              "\n",
              "          const docLinkHtml = 'Like what you see? Visit the ' +\n",
              "            '<a target=\"_blank\" href=https://colab.research.google.com/notebooks/data_table.ipynb>data table notebook</a>'\n",
              "            + ' to learn more about interactive tables.';\n",
              "          element.innerHTML = '';\n",
              "          dataTable['output_type'] = 'display_data';\n",
              "          await google.colab.output.renderOutput(dataTable, element);\n",
              "          const docLink = document.createElement('div');\n",
              "          docLink.innerHTML = docLinkHtml;\n",
              "          element.appendChild(docLink);\n",
              "        }\n",
              "      </script>\n",
              "    </div>\n",
              "  </div>\n",
              "  "
            ]
          },
          "metadata": {},
          "execution_count": 33
        }
      ]
    },
    {
      "cell_type": "code",
      "source": [
        "df_modelo[\"flux_extreme\"].value_counts(normalize=True)  #se analiza como se comporta la variable a predecir"
      ],
      "metadata": {
        "id": "nqvLP60nwt-a",
        "colab": {
          "base_uri": "https://localhost:8080/"
        },
        "outputId": "9a434854-2c51-4ae9-912e-90895c351e03"
      },
      "execution_count": 34,
      "outputs": [
        {
          "output_type": "execute_result",
          "data": {
            "text/plain": [
              "0.0    0.949955\n",
              "1.0    0.050045\n",
              "Name: flux_extreme, dtype: float64"
            ]
          },
          "metadata": {},
          "execution_count": 34
        }
      ]
    },
    {
      "cell_type": "markdown",
      "source": [
        "Es importante hacer incapié en que nos encontramos ante un problema desbalanceado de clases, ya que la clase a predecir es bastante más pequeña que la clase no-evento (cerca de un 5% de la base porque recordemos que nosotros creamos esa variable de esa forma). Luego, podríamos facilmente caer en un problema de clases desbalanceadas donde el modelo tienda a predecir muchas de las observaciones como no-evento buscando disminuir su error de predicción. Lo ideal sería probar con algoritmos de balancea (puede ser undersampling u oversampling), pero que por temas de tiempo no alcancé a impementar."
      ],
      "metadata": {
        "id": "UeVgrHvs6nAq"
      }
    },
    {
      "cell_type": "code",
      "source": [
        "df_modelo.isnull().sum()"
      ],
      "metadata": {
        "colab": {
          "base_uri": "https://localhost:8080/"
        },
        "id": "r3anor5189uj",
        "outputId": "13136cd6-bab1-4319-a0e1-e6e11dc89eee"
      },
      "execution_count": 35,
      "outputs": [
        {
          "output_type": "execute_result",
          "data": {
            "text/plain": [
              "lat                        0\n",
              "lon                        0\n",
              "mean_elev                  0\n",
              "area_km2                   0\n",
              "year                       0\n",
              "month                      0\n",
              "flux_extreme               0\n",
              "precip_2               25650\n",
              "flux_2                 25650\n",
              "temp_max_2             25650\n",
              "temp_extreme_2         25650\n",
              "flux_extreme_2         25650\n",
              "precip_extreme_2       25650\n",
              "var_flux_2_4           49973\n",
              "sum_extreme_year_1     71014\n",
              "sum_extreme_month_1    87041\n",
              "dtype: int64"
            ]
          },
          "metadata": {},
          "execution_count": 35
        }
      ]
    },
    {
      "cell_type": "markdown",
      "source": [
        "Dado que al aplicar lags quedaron ciertos datos nulos y para evitar complicaciones al entrenar el modelo, se procede a eliminar estas observaciones entendiendo que se pierde solo un 2% de la data, correspondiente al primer año de historia que se tiene registro."
      ],
      "metadata": {
        "id": "oajygiP49IhG"
      }
    },
    {
      "cell_type": "code",
      "source": [
        "df_modelo = df_modelo.dropna() "
      ],
      "metadata": {
        "id": "nPQud9fG9b9K"
      },
      "execution_count": 36,
      "outputs": []
    },
    {
      "cell_type": "markdown",
      "source": [
        "Procedemos a dividir la data en entrenamiento y testeo (tomaremos una división 80/20)"
      ],
      "metadata": {
        "id": "9TNKo1dp7lOW"
      }
    },
    {
      "cell_type": "code",
      "source": [
        "# Separamos en Train y Test\n",
        "X_train, X_test, y_train, y_test = train_test_split(df_modelo, df_modelo[\"flux_extreme\"], test_size=0.2, random_state=123)"
      ],
      "metadata": {
        "id": "n9oDC7nnoJZk"
      },
      "execution_count": 37,
      "outputs": []
    },
    {
      "cell_type": "code",
      "source": [
        "X_train = X_train[[\"lat\", \"lon\",\"mean_elev\",\"area_km2\",\"year\", \"month\",\"precip_2\",\"flux_2\",\"temp_max_2\",\"temp_extreme_2\",\n",
        "                \"flux_extreme_2\", \"precip_extreme_2\",\"var_flux_2_4\",\"sum_extreme_year_1\", \"sum_extreme_month_1\"]]\n",
        "X_test = X_test[[\"lat\", \"lon\",\"mean_elev\",\"area_km2\",\"year\", \"month\",\"precip_2\",\"flux_2\",\"temp_max_2\",\"temp_extreme_2\",\n",
        "                \"flux_extreme_2\", \"precip_extreme_2\",\"var_flux_2_4\",\"sum_extreme_year_1\", \"sum_extreme_month_1\"]]"
      ],
      "metadata": {
        "id": "wxw0EltUHf7v"
      },
      "execution_count": 38,
      "outputs": []
    },
    {
      "cell_type": "markdown",
      "source": [
        "Dado que siempre vamos a predecir a futuro siempre, podría ser conveniente evaluar el desempeño del modelo en una base de testeo unicamente del último año por ejemplo y entrenar con el resto de la historia. Por tiempo no lo realizaremos pero sería buena idea de implementar\n",
        "\n",
        "Comenzaremos entonces entrenando desde un modelo sencillo e iremos aumentando la dificultad del modelo. Siempre es importante probar ambos espectros porque se debe considerar el trade-off entre simplicidad y desempeño al momento de entrenar. "
      ],
      "metadata": {
        "id": "DCTCE-qv8MSN"
      }
    },
    {
      "cell_type": "code",
      "source": [
        "# Entrenamos con logística\n",
        "logit = LogisticRegression(random_state=123)\n",
        "logit.fit(X_train, y_train)"
      ],
      "metadata": {
        "colab": {
          "base_uri": "https://localhost:8080/"
        },
        "id": "bSFiZbtor68f",
        "outputId": "381cba74-2418-476c-c416-a17290398cf6"
      },
      "execution_count": 40,
      "outputs": [
        {
          "output_type": "stream",
          "name": "stderr",
          "text": [
            "/usr/local/lib/python3.7/dist-packages/sklearn/linear_model/_logistic.py:818: ConvergenceWarning: lbfgs failed to converge (status=1):\n",
            "STOP: TOTAL NO. of ITERATIONS REACHED LIMIT.\n",
            "\n",
            "Increase the number of iterations (max_iter) or scale the data as shown in:\n",
            "    https://scikit-learn.org/stable/modules/preprocessing.html\n",
            "Please also refer to the documentation for alternative solver options:\n",
            "    https://scikit-learn.org/stable/modules/linear_model.html#logistic-regression\n",
            "  extra_warning_msg=_LOGISTIC_SOLVER_CONVERGENCE_MSG,\n"
          ]
        },
        {
          "output_type": "execute_result",
          "data": {
            "text/plain": [
              "LogisticRegression(random_state=123)"
            ]
          },
          "metadata": {},
          "execution_count": 40
        }
      ]
    },
    {
      "cell_type": "code",
      "source": [
        "# Entrenamos con Random Forest\n",
        "model = RandomForestClassifier()\n",
        "# fit the model on the whole dataset\n",
        "model.fit(X_train, y_train)"
      ],
      "metadata": {
        "colab": {
          "base_uri": "https://localhost:8080/"
        },
        "id": "qPGWHH4nr_jJ",
        "outputId": "2b4a35ca-95f0-4822-f356-e92138322c57"
      },
      "execution_count": 41,
      "outputs": [
        {
          "output_type": "execute_result",
          "data": {
            "text/plain": [
              "RandomForestClassifier()"
            ]
          },
          "metadata": {},
          "execution_count": 41
        }
      ]
    },
    {
      "cell_type": "code",
      "source": [
        "# Entrenamos con XGBoost\n",
        "xg = xgb.XGBRegressor(objective ='reg:logistic', colsample_bytree = 0.3, learning_rate = 0.1,\n",
        "                max_depth = 5, alpha = 10, n_estimators = 10)\n",
        "xg.fit(X_train,y_train)"
      ],
      "metadata": {
        "id": "NXkTJu5TsE7X",
        "colab": {
          "base_uri": "https://localhost:8080/"
        },
        "outputId": "847a53c7-6fc8-467e-9284-da99f5543e90"
      },
      "execution_count": 42,
      "outputs": [
        {
          "output_type": "execute_result",
          "data": {
            "text/plain": [
              "XGBRegressor(alpha=10, colsample_bytree=0.3, max_depth=5, n_estimators=10,\n",
              "             objective='reg:logistic')"
            ]
          },
          "metadata": {},
          "execution_count": 42
        }
      ]
    },
    {
      "cell_type": "markdown",
      "source": [
        "## Analizamos los resultados del modelo\n",
        "a) A continuación evaluaremos las métricas de desempeño de cada modelo que entrenamos, así como las variables que resultaron más importantes al momento de entrenarlo.\n"
      ],
      "metadata": {
        "id": "JW7j9XuAoJw-"
      }
    },
    {
      "cell_type": "markdown",
      "source": [
        "Para este problema específico, no nos interesa tanto las métricas globales, ya que lo que más nos importa es que si es un evento extremo podamos predecirlo con tiempo y así evitar desastres o, incluso, salvar vidas. \n",
        "\n",
        "\n",
        "Otro aspecto a considerar es la confiabilidad que generamos en nuestros clientes/contrapartes. En un tema como esté, cada alarma que generemos requerirá uso de recursos y tiempo de parte de ellos, por lo que si levantamos muchas alarmas falsas se dejará de tener confiabilidad en el modelo y nuestro trabajo no tendrá sentido. Queremos que las alarmas que levantemos realmente terminen en un evento extremo, buscando identificar dentro de este rango a la mayor cantidad de eventos posibles.\n",
        "\n",
        "\n",
        "Es por esta razón que pondremos especial enfasis en el LIFT del modelo, ¿qué tan propensos son los grupos con mayor probabilidad respecto a los de menor probabilidad? Buscamos que este número sea lo más alto posible.\n",
        "\n",
        "\n",
        "\n",
        "La métrica de mayor utilidad en este caso es el lift porque probablemente si deseamos levantar alertas, no podremos hacerlo cada vez que haya una mínima posibilidad o perderemos credibilidad, así como tambien posibles recursos que el estado nos entregue para actuar. Luego, buscamos que entre un cierto % de casos más propensos estemos capturando la tasa más alta de eventos extremos.\n",
        "\n",
        "\n",
        "También analizaremos los resultados de la curva ROC que nos permite ver una métrica más global de cómo se comporta el modelo."
      ],
      "metadata": {
        "id": "kNljofUIsgOd"
      }
    },
    {
      "cell_type": "code",
      "source": [
        "# Performace Logistica\n",
        "predictions = logit.predict_proba(X_test)[:,1]\n",
        "predictions"
      ],
      "metadata": {
        "colab": {
          "base_uri": "https://localhost:8080/"
        },
        "id": "uandAof4oP6l",
        "outputId": "cfac4819-c2a8-44d8-9905-44bee6caa143"
      },
      "execution_count": 43,
      "outputs": [
        {
          "output_type": "execute_result",
          "data": {
            "text/plain": [
              "array([0.00087968, 0.00125681, 0.00223847, ..., 0.00130651, 0.00096331,\n",
              "       0.00164981])"
            ]
          },
          "metadata": {},
          "execution_count": 43
        }
      ]
    },
    {
      "cell_type": "code",
      "source": [
        "rmse = np.sqrt(metrics.mean_squared_error(y_test, predictions))\n",
        "print(\"RMSE: %f\" % (rmse))"
      ],
      "metadata": {
        "colab": {
          "base_uri": "https://localhost:8080/"
        },
        "id": "vkVgKek6ZEI5",
        "outputId": "7612eb79-73cb-4053-f0d4-8d40c3cb544a"
      },
      "execution_count": 44,
      "outputs": [
        {
          "output_type": "stream",
          "name": "stdout",
          "text": [
            "RMSE: 0.106289\n"
          ]
        }
      ]
    },
    {
      "cell_type": "code",
      "source": [
        "y_pred_proba = logit.predict_proba(X_test)[::,1]\n",
        "fpr, tpr, _ = metrics.roc_curve(y_test,  y_pred_proba)\n",
        "auc = metrics.roc_auc_score(y_test, y_pred_proba)\n",
        "\n",
        "#create ROC curve\n",
        "plt.plot(fpr,tpr,label=\"AUC=\"+str(auc))\n",
        "plt.ylabel('True Positive Rate')\n",
        "plt.xlabel('False Positive Rate')\n",
        "plt.legend(loc=4)\n",
        "plt.show()"
      ],
      "metadata": {
        "colab": {
          "base_uri": "https://localhost:8080/",
          "height": 279
        },
        "id": "ivQaC3voyU9x",
        "outputId": "f7815c67-6782-4c10-cd79-c698ccf86b58"
      },
      "execution_count": 45,
      "outputs": [
        {
          "output_type": "display_data",
          "data": {
            "text/plain": [
              "<Figure size 432x288 with 1 Axes>"
            ],
            "image/png": "[encoded data removed]"
          },
          "metadata": {
            "needs_background": "light"
          }
        }
      ]
    },
    {
      "cell_type": "markdown",
      "source": [
        "Se observa que el resultado del modelo es bastante bueno al evaluar su desempeño en la curva ROC, llegando a ser casi un valor perfecto. Puede que exista algo extraño en la data por el alto valor que alcanza en AUC, habría que revisar que las variables estén bien definidas y que no exista un problema de implementación"
      ],
      "metadata": {
        "id": "1Cl_TxZvAnmv"
      }
    },
    {
      "cell_type": "code",
      "source": [
        "# Plot the lift curve\n",
        "skplt.metrics.plot_lift_curve(y_true=y_test, y_probas=logit.predict_proba(X_test))"
      ],
      "metadata": {
        "colab": {
          "base_uri": "https://localhost:8080/",
          "height": 312
        },
        "id": "Nz3pqwe6BWdf",
        "outputId": "68d9c931-587a-411f-b616-37c3e6664b0d"
      },
      "execution_count": 52,
      "outputs": [
        {
          "output_type": "execute_result",
          "data": {
            "text/plain": [
              "<matplotlib.axes._subplots.AxesSubplot at 0x7f48336f5d10>"
            ]
          },
          "metadata": {},
          "execution_count": 52
        },
        {
          "output_type": "display_data",
          "data": {
            "text/plain": [
              "<Figure size 432x288 with 1 Axes>"
            ],
            "image/png": "[encoded data removed]"
          },
          "metadata": {
            "needs_background": "light"
          }
        }
      ]
    },
    {
      "cell_type": "markdown",
      "source": [
        "Al analizar la curva lift observamos que los resultados al momento de localizar los eventos extremos son bastante buenos. \n",
        "\n",
        "Por ejemplo, el grupo 10% más propenso a ser seleccionado como un evento extremo de flujo es casi 9 veces más propenso a terminar siendo uno respecto a los otros días.\n",
        "\n",
        "Si generamos alarmas solo con los días que están en el 5% más propenso a ser un día extremo, la probabilidad de ser uno sería casi 16 veces más probable que el común de los días.\n",
        "\n",
        "En otras palabras, dado que la probabilidad global de ser un día de flujo extremo es de un 5%, en ese segmento en le que generaremos alarmas, la probabilida subirá a un 80%!. "
      ],
      "metadata": {
        "id": "xUMIQLyyCfX6"
      }
    },
    {
      "cell_type": "code",
      "source": [
        "feature_importance = abs(logit.coef_[0])\n",
        "feature_importance = 100.0 * (feature_importance / feature_importance.max())\n",
        "sorted_idx = np.argsort(feature_importance)\n",
        "pos = np.arange(sorted_idx.shape[0]) + .5\n",
        "\n",
        "featfig = plt.figure()\n",
        "featax = featfig.add_subplot(1, 1, 1)\n",
        "featax.barh(pos, feature_importance[sorted_idx], align='center')\n",
        "featax.set_yticks(pos)\n",
        "featax.set_yticklabels(np.array(X_test.columns)[sorted_idx], fontsize=8)\n",
        "featax.set_xlabel('Relative Feature Importance')\n",
        "\n",
        "plt.tight_layout()   \n",
        "plt.show()"
      ],
      "metadata": {
        "colab": {
          "base_uri": "https://localhost:8080/",
          "height": 297
        },
        "id": "Y3HJBD8J6tkI",
        "outputId": "246016ef-bbaa-4f87-f3d3-6d128dc45a9c"
      },
      "execution_count": 47,
      "outputs": [
        {
          "output_type": "display_data",
          "data": {
            "text/plain": [
              "<Figure size 432x288 with 1 Axes>"
            ],
            "image/png": "[encoded data removed]"
          },
          "metadata": {
            "needs_background": "light"
          }
        }
      ]
    },
    {
      "cell_type": "markdown",
      "source": [
        "Si observamos las variables más importantes del modelo se observa que la cantidad de flujos extremos que ocurrieron el mes previo es aquella variable que más valor le entrega a nuestro modelo logit.\n",
        "\n",
        "Por otro lado, variables como el área, la elevación o la cantidad de eventos que ocurrieron el año previo no son utilizadas por el modelo, por lo que no serían una gran herramienta para predecir nuestra variable objetivo"
      ],
      "metadata": {
        "id": "TCjk3aY6_bIb"
      }
    },
    {
      "cell_type": "code",
      "source": [
        "# Performance Random Forest \n",
        "predictions = model.predict(X_test)\n",
        "predictions"
      ],
      "metadata": {
        "colab": {
          "base_uri": "https://localhost:8080/"
        },
        "id": "-Tw2H7uwsVfj",
        "outputId": "bfe90afe-468d-4e42-92aa-4e78da873c70"
      },
      "execution_count": 48,
      "outputs": [
        {
          "output_type": "execute_result",
          "data": {
            "text/plain": [
              "array([0., 0., 0., ..., 0., 0., 0.])"
            ]
          },
          "metadata": {},
          "execution_count": 48
        }
      ]
    },
    {
      "cell_type": "code",
      "source": [
        "rmse = np.sqrt(metrics.mean_squared_error(y_test, predictions))\n",
        "print(\"RMSE: %f\" % (rmse))"
      ],
      "metadata": {
        "colab": {
          "base_uri": "https://localhost:8080/"
        },
        "id": "PkVY9J_yU9BT",
        "outputId": "d237f87e-63a2-40eb-e15f-a6cc5f335f71"
      },
      "execution_count": 49,
      "outputs": [
        {
          "output_type": "stream",
          "name": "stdout",
          "text": [
            "RMSE: 0.083844\n"
          ]
        }
      ]
    },
    {
      "cell_type": "code",
      "source": [
        "y_pred_proba = model.predict(X_test)\n",
        "fpr, tpr, _ = metrics.roc_curve(y_test,  y_pred_proba)\n",
        "auc = metrics.roc_auc_score(y_test, y_pred_proba)\n",
        "\n",
        "#create ROC curve\n",
        "plt.plot(fpr,tpr,label=\"AUC=\"+str(auc))\n",
        "plt.ylabel('True Positive Rate')\n",
        "plt.xlabel('False Positive Rate')\n",
        "plt.legend(loc=4)\n",
        "plt.show()"
      ],
      "metadata": {
        "colab": {
          "base_uri": "https://localhost:8080/",
          "height": 279
        },
        "id": "fynm3Jen7zVf",
        "outputId": "3509bbea-575e-405f-9f0a-a8ed55118637"
      },
      "execution_count": 50,
      "outputs": [
        {
          "output_type": "display_data",
          "data": {
            "text/plain": [
              "<Figure size 432x288 with 1 Axes>"
            ],
            "image/png": "[encoded data removed]"
          },
          "metadata": {
            "needs_background": "light"
          }
        }
      ]
    },
    {
      "cell_type": "markdown",
      "source": [
        "Nuevamente, nuestro modelo tiene buena performance a modo global."
      ],
      "metadata": {
        "id": "MlbKZfH5GoCk"
      }
    },
    {
      "cell_type": "code",
      "source": [
        "# Plot the lift curve\n",
        "skplt.metrics.plot_lift_curve(y_true=y_test, y_probas=model.predict_proba(X_test))"
      ],
      "metadata": {
        "colab": {
          "base_uri": "https://localhost:8080/",
          "height": 312
        },
        "id": "8RliU7WhP9Z7",
        "outputId": "75062c17-f6b1-4ae0-d49c-0515d5b81b54"
      },
      "execution_count": 53,
      "outputs": [
        {
          "output_type": "execute_result",
          "data": {
            "text/plain": [
              "<matplotlib.axes._subplots.AxesSubplot at 0x7f4833c19d90>"
            ]
          },
          "metadata": {},
          "execution_count": 53
        },
        {
          "output_type": "display_data",
          "data": {
            "text/plain": [
              "<Figure size 432x288 with 1 Axes>"
            ],
            "image/png": "[encoded data removed]"
          },
          "metadata": {
            "needs_background": "light"
          }
        }
      ]
    },
    {
      "cell_type": "markdown",
      "source": [
        "En cuanto a la métrica de LIFT, observamos que el 10% más propenso a ser un día de flujo extremo es aproximadamente 8 veces más propenso que el grupo total.\n",
        "\n",
        "Si levantamos alarmas solo en el 5% más propenso de los casos, este grupo sería 16 veces más propenso a ser un día de flujo extremo. \n",
        "\n",
        "Luego, en comparación con el modelo anterior se obtienen resultados muy similares pero en random forest se observa que los primeros percentiles tienen un desempeño mejor para predecir. Esto se observa ya que la curva lift de logit baja inmediatamente, mientrás que en RF se mantiene arriba por algunas observaciones antes de comenzar a descender"
      ],
      "metadata": {
        "id": "D2-Wm483QCab"
      }
    },
    {
      "cell_type": "code",
      "source": [
        "importance = model.feature_importances_\n",
        "\n",
        "for i,v in enumerate(importance):\n",
        "\tprint('Feature: %0d, Score: %.5f' % (i,v))\n",
        "\n",
        "plt.bar([x for x in range(len(importance))], importance)\n",
        "plt.show()\n",
        "\n",
        "pd.DataFrame(model.feature_importances_, index=X_train.columns).sort_values(by=0, ascending=False)"
      ],
      "metadata": {
        "colab": {
          "base_uri": "https://localhost:8080/",
          "height": 1000
        },
        "id": "dhjmSopPBAjA",
        "outputId": "fb45f0a7-0671-40c1-a3ce-c7705b12e154"
      },
      "execution_count": 54,
      "outputs": [
        {
          "output_type": "stream",
          "name": "stdout",
          "text": [
            "Feature: 0, Score: 0.01971\n",
            "Feature: 1, Score: 0.01736\n",
            "Feature: 2, Score: 0.01981\n",
            "Feature: 3, Score: 0.05374\n",
            "Feature: 4, Score: 0.01189\n",
            "Feature: 5, Score: 0.02273\n",
            "Feature: 6, Score: 0.02471\n",
            "Feature: 7, Score: 0.26855\n",
            "Feature: 8, Score: 0.02313\n",
            "Feature: 9, Score: 0.00037\n",
            "Feature: 10, Score: 0.33119\n",
            "Feature: 11, Score: 0.00377\n",
            "Feature: 12, Score: 0.04222\n",
            "Feature: 13, Score: 0.01280\n",
            "Feature: 14, Score: 0.14802\n"
          ]
        },
        {
          "output_type": "display_data",
          "data": {
            "text/plain": [
              "<Figure size 432x288 with 1 Axes>"
            ],
            "image/png": "[encoded data removed]"
          },
          "metadata": {
            "needs_background": "light"
          }
        },
        {
          "output_type": "execute_result",
          "data": {
            "text/plain": [
              "                            0\n",
              "flux_extreme_2       0.331186\n",
              "flux_2               0.268552\n",
              "sum_extreme_month_1  0.148025\n",
              "area_km2             0.053741\n",
              "var_flux_2_4         0.042219\n",
              "precip_2             0.024710\n",
              "temp_max_2           0.023131\n",
              "month                0.022733\n",
              "mean_elev            0.019809\n",
              "lat                  0.019705\n",
              "lon                  0.017356\n",
              "sum_extreme_year_1   0.012797\n",
              "year                 0.011892\n",
              "precip_extreme_2     0.003774\n",
              "temp_extreme_2       0.000371"
            ],
            "text/html": [
              "\n",
              "  <div id=\"df-084f8ba4-e7d6-4a7e-b65c-d8e01121dcff\">\n",
              "    <div class=\"colab-df-container\">\n",
              "      <div>\n",
              "<style scoped>\n",
              "    .dataframe tbody tr th:only-of-type {\n",
              "        vertical-align: middle;\n",
              "    }\n",
              "\n",
              "    .dataframe tbody tr th {\n",
              "        vertical-align: top;\n",
              "    }\n",
              "\n",
              "    .dataframe thead th {\n",
              "        text-align: right;\n",
              "    }\n",
              "</style>\n",
              "<table border=\"1\" class=\"dataframe\">\n",
              "  <thead>\n",
              "    <tr style=\"text-align: right;\">\n",
              "      <th></th>\n",
              "      <th>0</th>\n",
              "    </tr>\n",
              "  </thead>\n",
              "  <tbody>\n",
              "    <tr>\n",
              "      <th>flux_extreme_2</th>\n",
              "      <td>0.331186</td>\n",
              "    </tr>\n",
              "    <tr>\n",
              "      <th>flux_2</th>\n",
              "      <td>0.268552</td>\n",
              "    </tr>\n",
              "    <tr>\n",
              "      <th>sum_extreme_month_1</th>\n",
              "      <td>0.148025</td>\n",
              "    </tr>\n",
              "    <tr>\n",
              "      <th>area_km2</th>\n",
              "      <td>0.053741</td>\n",
              "    </tr>\n",
              "    <tr>\n",
              "      <th>var_flux_2_4</th>\n",
              "      <td>0.042219</td>\n",
              "    </tr>\n",
              "    <tr>\n",
              "      <th>precip_2</th>\n",
              "      <td>0.024710</td>\n",
              "    </tr>\n",
              "    <tr>\n",
              "      <th>temp_max_2</th>\n",
              "      <td>0.023131</td>\n",
              "    </tr>\n",
              "    <tr>\n",
              "      <th>month</th>\n",
              "      <td>0.022733</td>\n",
              "    </tr>\n",
              "    <tr>\n",
              "      <th>mean_elev</th>\n",
              "      <td>0.019809</td>\n",
              "    </tr>\n",
              "    <tr>\n",
              "      <th>lat</th>\n",
              "      <td>0.019705</td>\n",
              "    </tr>\n",
              "    <tr>\n",
              "      <th>lon</th>\n",
              "      <td>0.017356</td>\n",
              "    </tr>\n",
              "    <tr>\n",
              "      <th>sum_extreme_year_1</th>\n",
              "      <td>0.012797</td>\n",
              "    </tr>\n",
              "    <tr>\n",
              "      <th>year</th>\n",
              "      <td>0.011892</td>\n",
              "    </tr>\n",
              "    <tr>\n",
              "      <th>precip_extreme_2</th>\n",
              "      <td>0.003774</td>\n",
              "    </tr>\n",
              "    <tr>\n",
              "      <th>temp_extreme_2</th>\n",
              "      <td>0.000371</td>\n",
              "    </tr>\n",
              "  </tbody>\n",
              "</table>\n",
              "</div>\n",
              "      <button class=\"colab-df-convert\" onclick=\"convertToInteractive('df-084f8ba4-e7d6-4a7e-b65c-d8e01121dcff')\"\n",
              "              title=\"Convert this dataframe to an interactive table.\"\n",
              "              style=\"display:none;\">\n",
              "        \n",
              "  <svg xmlns=\"http://www.w3.org/2000/svg\" height=\"24px\"viewBox=\"0 0 24 24\"\n",
              "       width=\"24px\">\n",
              "    <path d=\"M0 0h24v24H0V0z\" fill=\"none\"/>\n",
              "    <path d=\"M18.56 5.44l.94 2.06.94-2.06 2.06-.94-2.06-.94-.94-2.06-.94 2.06-2.06.94zm-11 1L8.5 8.5l.94-2.06 2.06-.94-2.06-.94L8.5 2.5l-.94 2.06-2.06.94zm10 10l.94 2.06.94-2.06 2.06-.94-2.06-.94-.94-2.06-.94 2.06-2.06.94z\"/><path d=\"M17.41 7.96l-1.37-1.37c-.4-.4-.92-.59-1.43-.59-.52 0-1.04.2-1.43.59L10.3 9.45l-7.72 7.72c-.78.78-.78 2.05 0 2.83L4 21.41c.39.39.9.59 1.41.59.51 0 1.02-.2 1.41-.59l7.78-7.78 2.81-2.81c.8-.78.8-2.07 0-2.86zM5.41 20L4 18.59l7.72-7.72 1.47 1.35L5.41 20z\"/>\n",
              "  </svg>\n",
              "      </button>\n",
              "      \n",
              "  <style>\n",
              "    .colab-df-container {\n",
              "      display:flex;\n",
              "      flex-wrap:wrap;\n",
              "      gap: 12px;\n",
              "    }\n",
              "\n",
              "    .colab-df-convert {\n",
              "      background-color: #E8F0FE;\n",
              "      border: none;\n",
              "      border-radius: 50%;\n",
              "      cursor: pointer;\n",
              "      display: none;\n",
              "      fill: #1967D2;\n",
              "      height: 32px;\n",
              "      padding: 0 0 0 0;\n",
              "      width: 32px;\n",
              "    }\n",
              "\n",
              "    .colab-df-convert:hover {\n",
              "      background-color: #E2EBFA;\n",
              "      box-shadow: 0px 1px 2px rgba(60, 64, 67, 0.3), 0px 1px 3px 1px rgba(60, 64, 67, 0.15);\n",
              "      fill: #174EA6;\n",
              "    }\n",
              "\n",
              "    [theme=dark] .colab-df-convert {\n",
              "      background-color: #3B4455;\n",
              "      fill: #D2E3FC;\n",
              "    }\n",
              "\n",
              "    [theme=dark] .colab-df-convert:hover {\n",
              "      background-color: #434B5C;\n",
              "      box-shadow: 0px 1px 3px 1px rgba(0, 0, 0, 0.15);\n",
              "      filter: drop-shadow(0px 1px 2px rgba(0, 0, 0, 0.3));\n",
              "      fill: #FFFFFF;\n",
              "    }\n",
              "  </style>\n",
              "\n",
              "      <script>\n",
              "        const buttonEl =\n",
              "          document.querySelector('#df-084f8ba4-e7d6-4a7e-b65c-d8e01121dcff button.colab-df-convert');\n",
              "        buttonEl.style.display =\n",
              "          google.colab.kernel.accessAllowed ? 'block' : 'none';\n",
              "\n",
              "        async function convertToInteractive(key) {\n",
              "          const element = document.querySelector('#df-084f8ba4-e7d6-4a7e-b65c-d8e01121dcff');\n",
              "          const dataTable =\n",
              "            await google.colab.kernel.invokeFunction('convertToInteractive',\n",
              "                                                     [key], {});\n",
              "          if (!dataTable) return;\n",
              "\n",
              "          const docLinkHtml = 'Like what you see? Visit the ' +\n",
              "            '<a target=\"_blank\" href=https://colab.research.google.com/notebooks/data_table.ipynb>data table notebook</a>'\n",
              "            + ' to learn more about interactive tables.';\n",
              "          element.innerHTML = '';\n",
              "          dataTable['output_type'] = 'display_data';\n",
              "          await google.colab.output.renderOutput(dataTable, element);\n",
              "          const docLink = document.createElement('div');\n",
              "          docLink.innerHTML = docLinkHtml;\n",
              "          element.appendChild(docLink);\n",
              "        }\n",
              "      </script>\n",
              "    </div>\n",
              "  </div>\n",
              "  "
            ]
          },
          "metadata": {},
          "execution_count": 54
        }
      ]
    },
    {
      "cell_type": "markdown",
      "source": [
        "Como se puede ver en este modelo las variables más importantes para el modelo al momento de predecir es si ocurrió un evento de flujo extremo 2 días antes, es decir, esta variable nos ayuda a predecir atamente la probabilidad de que vuelva a ocurrir un evento. También la variable de flujo que se tuvo 2 días antes resulta ser muy importante. \n",
        "\n",
        "En base a esto, podemos concluir que la historia del flujo permite predecir a futuro cómo este mismo se desarrollará: el flujo entre días está altamante correlacionado y  podría ayudarnos a predecir a futuro!\n",
        "\n",
        "En este caso, las variables que menos utiliza el modelo para entrenar son precipitaciones extremas y temperaturas extremos que ocurriero dos dias antes."
      ],
      "metadata": {
        "id": "-W6JN90atZcO"
      }
    },
    {
      "cell_type": "code",
      "source": [
        "# Performance XGBoost\n",
        "predictions = xg.predict(X_test)\n",
        "predictions"
      ],
      "metadata": {
        "colab": {
          "base_uri": "https://localhost:8080/"
        },
        "id": "EMLvMsihT0Ti",
        "outputId": "2535b8f0-734c-4313-df72-2f16e15d223c"
      },
      "execution_count": 55,
      "outputs": [
        {
          "output_type": "execute_result",
          "data": {
            "text/plain": [
              "array([0.17942227, 0.1939247 , 0.18630818, ..., 0.17979394, 0.17908464,\n",
              "       0.18576181], dtype=float32)"
            ]
          },
          "metadata": {},
          "execution_count": 55
        }
      ]
    },
    {
      "cell_type": "code",
      "source": [
        "rmse = np.sqrt(metrics.mean_squared_error(y_test, predictions))\n",
        "print(\"RMSE: %f\" % (rmse))"
      ],
      "metadata": {
        "colab": {
          "base_uri": "https://localhost:8080/"
        },
        "id": "h1sLgembUytB",
        "outputId": "d1f7840b-b278-4c79-c7b6-561084dd557d"
      },
      "execution_count": 56,
      "outputs": [
        {
          "output_type": "stream",
          "name": "stdout",
          "text": [
            "RMSE: 0.211429\n"
          ]
        }
      ]
    },
    {
      "cell_type": "code",
      "source": [
        "y_pred_proba = xg.predict(X_test)\n",
        "fpr, tpr, _ = metrics.roc_curve(y_test,  y_pred_proba)\n",
        "auc = metrics.roc_auc_score(y_test, y_pred_proba)\n",
        "\n",
        "#create ROC curve\n",
        "plt.plot(fpr,tpr,label=\"AUC=\"+str(auc))\n",
        "plt.ylabel('True Positive Rate')\n",
        "plt.xlabel('False Positive Rate')\n",
        "plt.legend(loc=4)\n",
        "plt.show()"
      ],
      "metadata": {
        "colab": {
          "base_uri": "https://localhost:8080/",
          "height": 279
        },
        "id": "L0tx2yc4T4oy",
        "outputId": "82802b05-04cd-434f-b064-89a1c1ce1687"
      },
      "execution_count": 58,
      "outputs": [
        {
          "output_type": "display_data",
          "data": {
            "text/plain": [
              "<Figure size 432x288 with 1 Axes>"
            ],
            "image/png": "[encoded data removed]"
          },
          "metadata": {
            "needs_background": "light"
          }
        }
      ]
    },
    {
      "cell_type": "code",
      "source": [
        "xgb.plot_importance(xg)\n",
        "plt.rcParams['figure.figsize'] = [5, 5]\n",
        "plt.show()"
      ],
      "metadata": {
        "colab": {
          "base_uri": "https://localhost:8080/",
          "height": 295
        },
        "id": "ucKi63teUJQX",
        "outputId": "a6d7e0b8-2b06-41e6-b132-2f4720563a49"
      },
      "execution_count": 59,
      "outputs": [
        {
          "output_type": "display_data",
          "data": {
            "text/plain": [
              "<Figure size 432x288 with 1 Axes>"
            ],
            "image/png": "[encoded data removed]"
          },
          "metadata": {
            "needs_background": "light"
          }
        }
      ]
    },
    {
      "cell_type": "markdown",
      "source": [
        "En este caso la variable más importante fue la ltitud y longitud, es decir, este modelo utilizó variables de locación para estimar la probabilidad de que un evento sea extremo."
      ],
      "metadata": {
        "id": "_NBSS0b8Y0_k"
      }
    },
    {
      "cell_type": "markdown",
      "source": [
        "En base a los resultados se puede decir que el modelo que obtuvo mejor desempeño fue Random Forest, pero que un modelo logit de todas maneras alcanza un buen comportamiento y sería más simple su implementación en caso de recurrirlo.\n",
        "\n",
        "Un aspecto importante que se debe analizar en otra ocasión es si los modelos presentan un sobreajuste muy alto, lo que podría finalizar en modelos que a futuro presentan cada vez peor desempeño. \n",
        "\n",
        "Algunas mejoras a los modelos pueden ser:\n",
        "\n",
        "1) Probar con otros parámetros al momento de entrenar y ver cómo varía la performance. Por ejemplo, hacer cross-validation (especialmente util para overffiting)\n",
        "\n",
        "2) También se podrían probar otros modelos que historicamente han presentado buen desempeño, por ejemplo: stacked ensemble, redes neuronales, gbm, etx"
      ],
      "metadata": {
        "id": "kCh1ffLEtbpO"
      }
    },
    {
      "cell_type": "markdown",
      "source": [
        "b) Por último, podemos preguntarnos qué métrica analizar si queremos identificar al menos el 70% de los eventos de flujo extremo.\n",
        "\n",
        "Para responder a esta pregunta debemos observar la metrica de Recall, donde se obtiene el porcentaje de eventos que predijimos que serían extremos sobre el total de eventos extremos que hubieron. \n",
        "\n",
        "En nuestro caso, para Random Forest el Recall fue de:"
      ],
      "metadata": {
        "id": "D3b1ykY6oQYv"
      }
    },
    {
      "cell_type": "code",
      "source": [
        "metrics.recall_score(y_test, model.predict(X_test))"
      ],
      "metadata": {
        "colab": {
          "base_uri": "https://localhost:8080/"
        },
        "id": "MLA5mlGcGH9C",
        "outputId": "574d961e-c650-444d-a450-5dbc8907f8b0"
      },
      "execution_count": 60,
      "outputs": [
        {
          "output_type": "execute_result",
          "data": {
            "text/plain": [
              "0.908237773818784"
            ]
          },
          "metadata": {},
          "execution_count": 60
        }
      ]
    },
    {
      "cell_type": "markdown",
      "source": [
        "Por ende, con el modelo Random Forest alcanzamos un recall de un 91%, es decir, logramos identitificar el 91% de los casos que son eventos de flujo extremo!! Esta tasa de eror es bastante baja por lo que podríamos evitar muchas catástrofes a futuro y estar mejor preparados ante estas problemáticas meteorológicas."
      ],
      "metadata": {
        "id": "YCCPqXgWGNpG"
      }
    }
  ]
}